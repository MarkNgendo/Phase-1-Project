{
 "cells": [
  {
   "cell_type": "markdown",
   "id": "4509d845",
   "metadata": {},
   "source": [
    "# MICROSOFT MOVIE STUDIO ANALYSIS"
   ]
  },
  {
   "cell_type": "markdown",
   "id": "f96b0822",
   "metadata": {},
   "source": [
    "## INTRODUCTION"
   ]
  },
  {
   "cell_type": "markdown",
   "id": "a912fdb1",
   "metadata": {},
   "source": [
    "## Business Problem"
   ]
  },
  {
   "cell_type": "markdown",
   "id": "e1f271e0",
   "metadata": {},
   "source": [
    "### Objectives"
   ]
  },
  {
   "cell_type": "markdown",
   "id": "31f4a1b8",
   "metadata": {},
   "source": [
    "To solve the above problem and help in steering Microsoft in the right direction in this endeavour, the following are this project's objectives\n",
    "\n",
    "<b>Main Objective</b>\n",
    "> Pass\n",
    "\n",
    "<b>Specific Objectives</b>\n",
    "1. To ...\n",
    "2. To ...\n",
    "3. To ..."
   ]
  },
  {
   "cell_type": "markdown",
   "id": "36de9b72",
   "metadata": {},
   "source": [
    "## Experimental Design\n",
    "\n",
    "The research follows the steps as listed:\n",
    "1. Introduction and Business Problem\n",
    "2. Loading Data and Relevant Libraries\n",
    "3. Data Wrangling and Preparation\n",
    "4. Data Exploration and Visualization\n",
    "5. Conclusions\n",
    "6. Recommendations"
   ]
  },
  {
   "cell_type": "markdown",
   "id": "e1d52853",
   "metadata": {},
   "source": [
    "## Metric of Success\n",
    "The project will be considered a success once it yields at least three actionable and data-driven recommendations to Mircosoft which can ensure the company focuses on the right steps while breaking into the Movie Industry"
   ]
  },
  {
   "cell_type": "markdown",
   "id": "4641a491",
   "metadata": {},
   "source": [
    "## Data Description"
   ]
  },
  {
   "cell_type": "markdown",
   "id": "31a2d5e5",
   "metadata": {},
   "source": [
    "To be described"
   ]
  },
  {
   "cell_type": "markdown",
   "id": "516b47b2",
   "metadata": {},
   "source": [
    "## Loading Libraries"
   ]
  },
  {
   "cell_type": "code",
   "execution_count": 1,
   "id": "d663d149",
   "metadata": {},
   "outputs": [],
   "source": [
    "import pandas as pd\n",
    "import numpy as np\n",
    "import sqlite3\n",
    "import seaborn as sns\n",
    "from matplotlib import pyplot as plt\n",
    "%matplotlib inline"
   ]
  },
  {
   "cell_type": "markdown",
   "id": "d40f3b65",
   "metadata": {},
   "source": [
    "## Loading Data"
   ]
  },
  {
   "cell_type": "code",
   "execution_count": 2,
   "id": "def89fa3",
   "metadata": {},
   "outputs": [
    {
     "data": {
      "text/html": [
       "<div>\n",
       "<style scoped>\n",
       "    .dataframe tbody tr th:only-of-type {\n",
       "        vertical-align: middle;\n",
       "    }\n",
       "\n",
       "    .dataframe tbody tr th {\n",
       "        vertical-align: top;\n",
       "    }\n",
       "\n",
       "    .dataframe thead th {\n",
       "        text-align: right;\n",
       "    }\n",
       "</style>\n",
       "<table border=\"1\" class=\"dataframe\">\n",
       "  <thead>\n",
       "    <tr style=\"text-align: right;\">\n",
       "      <th></th>\n",
       "      <th>name</th>\n",
       "    </tr>\n",
       "  </thead>\n",
       "  <tbody>\n",
       "    <tr>\n",
       "      <th>0</th>\n",
       "      <td>movie_basics</td>\n",
       "    </tr>\n",
       "    <tr>\n",
       "      <th>1</th>\n",
       "      <td>directors</td>\n",
       "    </tr>\n",
       "    <tr>\n",
       "      <th>2</th>\n",
       "      <td>known_for</td>\n",
       "    </tr>\n",
       "    <tr>\n",
       "      <th>3</th>\n",
       "      <td>movie_akas</td>\n",
       "    </tr>\n",
       "    <tr>\n",
       "      <th>4</th>\n",
       "      <td>movie_ratings</td>\n",
       "    </tr>\n",
       "    <tr>\n",
       "      <th>5</th>\n",
       "      <td>persons</td>\n",
       "    </tr>\n",
       "    <tr>\n",
       "      <th>6</th>\n",
       "      <td>principals</td>\n",
       "    </tr>\n",
       "    <tr>\n",
       "      <th>7</th>\n",
       "      <td>writers</td>\n",
       "    </tr>\n",
       "  </tbody>\n",
       "</table>\n",
       "</div>"
      ],
      "text/plain": [
       "            name\n",
       "0   movie_basics\n",
       "1      directors\n",
       "2      known_for\n",
       "3     movie_akas\n",
       "4  movie_ratings\n",
       "5        persons\n",
       "6     principals\n",
       "7        writers"
      ]
     },
     "execution_count": 2,
     "metadata": {},
     "output_type": "execute_result"
    }
   ],
   "source": [
    "# Creating a connection to database file\n",
    "conn = sqlite3.connect(\"./data/im.db\")\n",
    "\n",
    "\n",
    "# Query for all tables\n",
    "tablesQuery = \"\"\"\n",
    "SELECT name FROM sqlite_master\n",
    "WHERE type='table';\n",
    "\"\"\"\n",
    "\n",
    "# Executing query\n",
    "pd.read_sql(tablesQuery, conn)"
   ]
  },
  {
   "cell_type": "markdown",
   "id": "5e19aaf9",
   "metadata": {},
   "source": [
    "> From the abov, there are 8 tables, investigating them reveals the following:"
   ]
  },
  {
   "cell_type": "markdown",
   "id": "d1c30352",
   "metadata": {},
   "source": [
    "### DataBase Files"
   ]
  },
  {
   "cell_type": "markdown",
   "id": "e0193171",
   "metadata": {},
   "source": [
    "**Writers Table**"
   ]
  },
  {
   "cell_type": "code",
   "execution_count": 3,
   "id": "2c2d78cf",
   "metadata": {},
   "outputs": [
    {
     "data": {
      "text/html": [
       "<div>\n",
       "<style scoped>\n",
       "    .dataframe tbody tr th:only-of-type {\n",
       "        vertical-align: middle;\n",
       "    }\n",
       "\n",
       "    .dataframe tbody tr th {\n",
       "        vertical-align: top;\n",
       "    }\n",
       "\n",
       "    .dataframe thead th {\n",
       "        text-align: right;\n",
       "    }\n",
       "</style>\n",
       "<table border=\"1\" class=\"dataframe\">\n",
       "  <thead>\n",
       "    <tr style=\"text-align: right;\">\n",
       "      <th></th>\n",
       "      <th>movie_id</th>\n",
       "      <th>person_id</th>\n",
       "    </tr>\n",
       "  </thead>\n",
       "  <tbody>\n",
       "    <tr>\n",
       "      <th>0</th>\n",
       "      <td>tt0285252</td>\n",
       "      <td>nm0899854</td>\n",
       "    </tr>\n",
       "    <tr>\n",
       "      <th>1</th>\n",
       "      <td>tt0438973</td>\n",
       "      <td>nm0175726</td>\n",
       "    </tr>\n",
       "    <tr>\n",
       "      <th>2</th>\n",
       "      <td>tt0438973</td>\n",
       "      <td>nm1802864</td>\n",
       "    </tr>\n",
       "    <tr>\n",
       "      <th>3</th>\n",
       "      <td>tt0462036</td>\n",
       "      <td>nm1940585</td>\n",
       "    </tr>\n",
       "    <tr>\n",
       "      <th>4</th>\n",
       "      <td>tt0835418</td>\n",
       "      <td>nm0310087</td>\n",
       "    </tr>\n",
       "    <tr>\n",
       "      <th>5</th>\n",
       "      <td>tt0835418</td>\n",
       "      <td>nm0841532</td>\n",
       "    </tr>\n",
       "    <tr>\n",
       "      <th>6</th>\n",
       "      <td>tt0878654</td>\n",
       "      <td>nm0284943</td>\n",
       "    </tr>\n",
       "    <tr>\n",
       "      <th>7</th>\n",
       "      <td>tt0878654</td>\n",
       "      <td>nm0284943</td>\n",
       "    </tr>\n",
       "    <tr>\n",
       "      <th>8</th>\n",
       "      <td>tt0878654</td>\n",
       "      <td>nm0284943</td>\n",
       "    </tr>\n",
       "    <tr>\n",
       "      <th>9</th>\n",
       "      <td>tt0996958</td>\n",
       "      <td>nm2286991</td>\n",
       "    </tr>\n",
       "  </tbody>\n",
       "</table>\n",
       "</div>"
      ],
      "text/plain": [
       "    movie_id  person_id\n",
       "0  tt0285252  nm0899854\n",
       "1  tt0438973  nm0175726\n",
       "2  tt0438973  nm1802864\n",
       "3  tt0462036  nm1940585\n",
       "4  tt0835418  nm0310087\n",
       "5  tt0835418  nm0841532\n",
       "6  tt0878654  nm0284943\n",
       "7  tt0878654  nm0284943\n",
       "8  tt0878654  nm0284943\n",
       "9  tt0996958  nm2286991"
      ]
     },
     "execution_count": 3,
     "metadata": {},
     "output_type": "execute_result"
    }
   ],
   "source": [
    "table1 = \"\"\"\n",
    "Select * FROM writers\n",
    "LIMIT 10;\n",
    "\"\"\"\n",
    "pd.read_sql(table1, conn)"
   ]
  },
  {
   "cell_type": "markdown",
   "id": "9698d075",
   "metadata": {},
   "source": [
    "> The table above is giving information about the writers responsible for various movies using respective IDs."
   ]
  },
  {
   "cell_type": "markdown",
   "id": "4a114733",
   "metadata": {},
   "source": [
    "**Directors Table**"
   ]
  },
  {
   "cell_type": "code",
   "execution_count": 4,
   "id": "d45ffee9",
   "metadata": {},
   "outputs": [
    {
     "data": {
      "text/html": [
       "<div>\n",
       "<style scoped>\n",
       "    .dataframe tbody tr th:only-of-type {\n",
       "        vertical-align: middle;\n",
       "    }\n",
       "\n",
       "    .dataframe tbody tr th {\n",
       "        vertical-align: top;\n",
       "    }\n",
       "\n",
       "    .dataframe thead th {\n",
       "        text-align: right;\n",
       "    }\n",
       "</style>\n",
       "<table border=\"1\" class=\"dataframe\">\n",
       "  <thead>\n",
       "    <tr style=\"text-align: right;\">\n",
       "      <th></th>\n",
       "      <th>movie_id</th>\n",
       "      <th>person_id</th>\n",
       "    </tr>\n",
       "  </thead>\n",
       "  <tbody>\n",
       "    <tr>\n",
       "      <th>0</th>\n",
       "      <td>tt0285252</td>\n",
       "      <td>nm0899854</td>\n",
       "    </tr>\n",
       "    <tr>\n",
       "      <th>1</th>\n",
       "      <td>tt0462036</td>\n",
       "      <td>nm1940585</td>\n",
       "    </tr>\n",
       "    <tr>\n",
       "      <th>2</th>\n",
       "      <td>tt0835418</td>\n",
       "      <td>nm0151540</td>\n",
       "    </tr>\n",
       "    <tr>\n",
       "      <th>3</th>\n",
       "      <td>tt0835418</td>\n",
       "      <td>nm0151540</td>\n",
       "    </tr>\n",
       "    <tr>\n",
       "      <th>4</th>\n",
       "      <td>tt0878654</td>\n",
       "      <td>nm0089502</td>\n",
       "    </tr>\n",
       "    <tr>\n",
       "      <th>5</th>\n",
       "      <td>tt0878654</td>\n",
       "      <td>nm2291498</td>\n",
       "    </tr>\n",
       "    <tr>\n",
       "      <th>6</th>\n",
       "      <td>tt0878654</td>\n",
       "      <td>nm2292011</td>\n",
       "    </tr>\n",
       "    <tr>\n",
       "      <th>7</th>\n",
       "      <td>tt0879859</td>\n",
       "      <td>nm2416460</td>\n",
       "    </tr>\n",
       "    <tr>\n",
       "      <th>8</th>\n",
       "      <td>tt0996958</td>\n",
       "      <td>nm2286991</td>\n",
       "    </tr>\n",
       "    <tr>\n",
       "      <th>9</th>\n",
       "      <td>tt0996958</td>\n",
       "      <td>nm2286991</td>\n",
       "    </tr>\n",
       "  </tbody>\n",
       "</table>\n",
       "</div>"
      ],
      "text/plain": [
       "    movie_id  person_id\n",
       "0  tt0285252  nm0899854\n",
       "1  tt0462036  nm1940585\n",
       "2  tt0835418  nm0151540\n",
       "3  tt0835418  nm0151540\n",
       "4  tt0878654  nm0089502\n",
       "5  tt0878654  nm2291498\n",
       "6  tt0878654  nm2292011\n",
       "7  tt0879859  nm2416460\n",
       "8  tt0996958  nm2286991\n",
       "9  tt0996958  nm2286991"
      ]
     },
     "execution_count": 4,
     "metadata": {},
     "output_type": "execute_result"
    }
   ],
   "source": [
    "table2 = \"\"\"\n",
    "SELECT * FROM directors\n",
    "LIMIT 10\n",
    "\"\"\"\n",
    "\n",
    "pd.read_sql(table2, conn)"
   ]
  },
  {
   "cell_type": "markdown",
   "id": "6fe8389a",
   "metadata": {},
   "source": [
    "> The table above is giving information about the directors responsible for various movies using respective IDs."
   ]
  },
  {
   "cell_type": "markdown",
   "id": "4adf5ec0",
   "metadata": {},
   "source": [
    "**Movie Basics Table**"
   ]
  },
  {
   "cell_type": "code",
   "execution_count": 5,
   "id": "45bd1650",
   "metadata": {},
   "outputs": [
    {
     "data": {
      "text/html": [
       "<div>\n",
       "<style scoped>\n",
       "    .dataframe tbody tr th:only-of-type {\n",
       "        vertical-align: middle;\n",
       "    }\n",
       "\n",
       "    .dataframe tbody tr th {\n",
       "        vertical-align: top;\n",
       "    }\n",
       "\n",
       "    .dataframe thead th {\n",
       "        text-align: right;\n",
       "    }\n",
       "</style>\n",
       "<table border=\"1\" class=\"dataframe\">\n",
       "  <thead>\n",
       "    <tr style=\"text-align: right;\">\n",
       "      <th></th>\n",
       "      <th>movie_id</th>\n",
       "      <th>primary_title</th>\n",
       "      <th>original_title</th>\n",
       "      <th>start_year</th>\n",
       "      <th>runtime_minutes</th>\n",
       "      <th>genres</th>\n",
       "    </tr>\n",
       "  </thead>\n",
       "  <tbody>\n",
       "    <tr>\n",
       "      <th>0</th>\n",
       "      <td>tt0063540</td>\n",
       "      <td>Sunghursh</td>\n",
       "      <td>Sunghursh</td>\n",
       "      <td>2013</td>\n",
       "      <td>175.0</td>\n",
       "      <td>Action,Crime,Drama</td>\n",
       "    </tr>\n",
       "    <tr>\n",
       "      <th>1</th>\n",
       "      <td>tt0066787</td>\n",
       "      <td>One Day Before the Rainy Season</td>\n",
       "      <td>Ashad Ka Ek Din</td>\n",
       "      <td>2019</td>\n",
       "      <td>114.0</td>\n",
       "      <td>Biography,Drama</td>\n",
       "    </tr>\n",
       "    <tr>\n",
       "      <th>2</th>\n",
       "      <td>tt0069049</td>\n",
       "      <td>The Other Side of the Wind</td>\n",
       "      <td>The Other Side of the Wind</td>\n",
       "      <td>2018</td>\n",
       "      <td>122.0</td>\n",
       "      <td>Drama</td>\n",
       "    </tr>\n",
       "    <tr>\n",
       "      <th>3</th>\n",
       "      <td>tt0069204</td>\n",
       "      <td>Sabse Bada Sukh</td>\n",
       "      <td>Sabse Bada Sukh</td>\n",
       "      <td>2018</td>\n",
       "      <td>NaN</td>\n",
       "      <td>Comedy,Drama</td>\n",
       "    </tr>\n",
       "    <tr>\n",
       "      <th>4</th>\n",
       "      <td>tt0100275</td>\n",
       "      <td>The Wandering Soap Opera</td>\n",
       "      <td>La Telenovela Errante</td>\n",
       "      <td>2017</td>\n",
       "      <td>80.0</td>\n",
       "      <td>Comedy,Drama,Fantasy</td>\n",
       "    </tr>\n",
       "    <tr>\n",
       "      <th>5</th>\n",
       "      <td>tt0111414</td>\n",
       "      <td>A Thin Life</td>\n",
       "      <td>A Thin Life</td>\n",
       "      <td>2018</td>\n",
       "      <td>75.0</td>\n",
       "      <td>Comedy</td>\n",
       "    </tr>\n",
       "    <tr>\n",
       "      <th>6</th>\n",
       "      <td>tt0112502</td>\n",
       "      <td>Bigfoot</td>\n",
       "      <td>Bigfoot</td>\n",
       "      <td>2017</td>\n",
       "      <td>NaN</td>\n",
       "      <td>Horror,Thriller</td>\n",
       "    </tr>\n",
       "    <tr>\n",
       "      <th>7</th>\n",
       "      <td>tt0137204</td>\n",
       "      <td>Joe Finds Grace</td>\n",
       "      <td>Joe Finds Grace</td>\n",
       "      <td>2017</td>\n",
       "      <td>83.0</td>\n",
       "      <td>Adventure,Animation,Comedy</td>\n",
       "    </tr>\n",
       "    <tr>\n",
       "      <th>8</th>\n",
       "      <td>tt0139613</td>\n",
       "      <td>O Silêncio</td>\n",
       "      <td>O Silêncio</td>\n",
       "      <td>2012</td>\n",
       "      <td>NaN</td>\n",
       "      <td>Documentary,History</td>\n",
       "    </tr>\n",
       "    <tr>\n",
       "      <th>9</th>\n",
       "      <td>tt0144449</td>\n",
       "      <td>Nema aviona za Zagreb</td>\n",
       "      <td>Nema aviona za Zagreb</td>\n",
       "      <td>2012</td>\n",
       "      <td>82.0</td>\n",
       "      <td>Biography</td>\n",
       "    </tr>\n",
       "  </tbody>\n",
       "</table>\n",
       "</div>"
      ],
      "text/plain": [
       "    movie_id                    primary_title              original_title  \\\n",
       "0  tt0063540                        Sunghursh                   Sunghursh   \n",
       "1  tt0066787  One Day Before the Rainy Season             Ashad Ka Ek Din   \n",
       "2  tt0069049       The Other Side of the Wind  The Other Side of the Wind   \n",
       "3  tt0069204                  Sabse Bada Sukh             Sabse Bada Sukh   \n",
       "4  tt0100275         The Wandering Soap Opera       La Telenovela Errante   \n",
       "5  tt0111414                      A Thin Life                 A Thin Life   \n",
       "6  tt0112502                          Bigfoot                     Bigfoot   \n",
       "7  tt0137204                  Joe Finds Grace             Joe Finds Grace   \n",
       "8  tt0139613                       O Silêncio                  O Silêncio   \n",
       "9  tt0144449            Nema aviona za Zagreb       Nema aviona za Zagreb   \n",
       "\n",
       "   start_year  runtime_minutes                      genres  \n",
       "0        2013            175.0          Action,Crime,Drama  \n",
       "1        2019            114.0             Biography,Drama  \n",
       "2        2018            122.0                       Drama  \n",
       "3        2018              NaN                Comedy,Drama  \n",
       "4        2017             80.0        Comedy,Drama,Fantasy  \n",
       "5        2018             75.0                      Comedy  \n",
       "6        2017              NaN             Horror,Thriller  \n",
       "7        2017             83.0  Adventure,Animation,Comedy  \n",
       "8        2012              NaN         Documentary,History  \n",
       "9        2012             82.0                   Biography  "
      ]
     },
     "execution_count": 5,
     "metadata": {},
     "output_type": "execute_result"
    }
   ],
   "source": [
    "table3 = \"\"\"\n",
    "SELECT * FROM movie_basics\n",
    "LIMIT 10;\n",
    "\"\"\"\n",
    "\n",
    "pd.read_sql(table3, conn)"
   ]
  },
  {
   "cell_type": "markdown",
   "id": "f89c2c53",
   "metadata": {},
   "source": [
    "> The above table gives information about basic attributes of movies:\n",
    "* Titles\n",
    "* Runtime in Minutes\n",
    "* Genres spanned\n",
    "* Start/Release Year"
   ]
  },
  {
   "cell_type": "markdown",
   "id": "b8a03a5a",
   "metadata": {},
   "source": [
    "**Movie AKAs**"
   ]
  },
  {
   "cell_type": "code",
   "execution_count": 6,
   "id": "d43566f9",
   "metadata": {},
   "outputs": [
    {
     "data": {
      "text/html": [
       "<div>\n",
       "<style scoped>\n",
       "    .dataframe tbody tr th:only-of-type {\n",
       "        vertical-align: middle;\n",
       "    }\n",
       "\n",
       "    .dataframe tbody tr th {\n",
       "        vertical-align: top;\n",
       "    }\n",
       "\n",
       "    .dataframe thead th {\n",
       "        text-align: right;\n",
       "    }\n",
       "</style>\n",
       "<table border=\"1\" class=\"dataframe\">\n",
       "  <thead>\n",
       "    <tr style=\"text-align: right;\">\n",
       "      <th></th>\n",
       "      <th>movie_id</th>\n",
       "      <th>ordering</th>\n",
       "      <th>title</th>\n",
       "      <th>region</th>\n",
       "      <th>language</th>\n",
       "      <th>types</th>\n",
       "      <th>attributes</th>\n",
       "      <th>is_original_title</th>\n",
       "    </tr>\n",
       "  </thead>\n",
       "  <tbody>\n",
       "    <tr>\n",
       "      <th>0</th>\n",
       "      <td>tt0369610</td>\n",
       "      <td>10</td>\n",
       "      <td>Джурасик свят</td>\n",
       "      <td>BG</td>\n",
       "      <td>bg</td>\n",
       "      <td>None</td>\n",
       "      <td>None</td>\n",
       "      <td>0.0</td>\n",
       "    </tr>\n",
       "    <tr>\n",
       "      <th>1</th>\n",
       "      <td>tt0369610</td>\n",
       "      <td>11</td>\n",
       "      <td>Jurashikku warudo</td>\n",
       "      <td>JP</td>\n",
       "      <td>None</td>\n",
       "      <td>imdbDisplay</td>\n",
       "      <td>None</td>\n",
       "      <td>0.0</td>\n",
       "    </tr>\n",
       "    <tr>\n",
       "      <th>2</th>\n",
       "      <td>tt0369610</td>\n",
       "      <td>12</td>\n",
       "      <td>Jurassic World: O Mundo dos Dinossauros</td>\n",
       "      <td>BR</td>\n",
       "      <td>None</td>\n",
       "      <td>imdbDisplay</td>\n",
       "      <td>None</td>\n",
       "      <td>0.0</td>\n",
       "    </tr>\n",
       "    <tr>\n",
       "      <th>3</th>\n",
       "      <td>tt0369610</td>\n",
       "      <td>13</td>\n",
       "      <td>O Mundo dos Dinossauros</td>\n",
       "      <td>BR</td>\n",
       "      <td>None</td>\n",
       "      <td>None</td>\n",
       "      <td>short title</td>\n",
       "      <td>0.0</td>\n",
       "    </tr>\n",
       "    <tr>\n",
       "      <th>4</th>\n",
       "      <td>tt0369610</td>\n",
       "      <td>14</td>\n",
       "      <td>Jurassic World</td>\n",
       "      <td>FR</td>\n",
       "      <td>None</td>\n",
       "      <td>imdbDisplay</td>\n",
       "      <td>None</td>\n",
       "      <td>0.0</td>\n",
       "    </tr>\n",
       "    <tr>\n",
       "      <th>5</th>\n",
       "      <td>tt0369610</td>\n",
       "      <td>15</td>\n",
       "      <td>Jurassic World</td>\n",
       "      <td>GR</td>\n",
       "      <td>None</td>\n",
       "      <td>imdbDisplay</td>\n",
       "      <td>None</td>\n",
       "      <td>0.0</td>\n",
       "    </tr>\n",
       "    <tr>\n",
       "      <th>6</th>\n",
       "      <td>tt0369610</td>\n",
       "      <td>16</td>\n",
       "      <td>Jurassic World</td>\n",
       "      <td>IT</td>\n",
       "      <td>None</td>\n",
       "      <td>imdbDisplay</td>\n",
       "      <td>None</td>\n",
       "      <td>0.0</td>\n",
       "    </tr>\n",
       "    <tr>\n",
       "      <th>7</th>\n",
       "      <td>tt0369610</td>\n",
       "      <td>17</td>\n",
       "      <td>Jurski svijet</td>\n",
       "      <td>HR</td>\n",
       "      <td>None</td>\n",
       "      <td>imdbDisplay</td>\n",
       "      <td>None</td>\n",
       "      <td>0.0</td>\n",
       "    </tr>\n",
       "    <tr>\n",
       "      <th>8</th>\n",
       "      <td>tt0369610</td>\n",
       "      <td>18</td>\n",
       "      <td>Olam ha'Yura</td>\n",
       "      <td>IL</td>\n",
       "      <td>he</td>\n",
       "      <td>imdbDisplay</td>\n",
       "      <td>None</td>\n",
       "      <td>0.0</td>\n",
       "    </tr>\n",
       "    <tr>\n",
       "      <th>9</th>\n",
       "      <td>tt0369610</td>\n",
       "      <td>19</td>\n",
       "      <td>Jurassic World: Mundo Jurásico</td>\n",
       "      <td>MX</td>\n",
       "      <td>None</td>\n",
       "      <td>imdbDisplay</td>\n",
       "      <td>None</td>\n",
       "      <td>0.0</td>\n",
       "    </tr>\n",
       "  </tbody>\n",
       "</table>\n",
       "</div>"
      ],
      "text/plain": [
       "    movie_id  ordering                                    title region  \\\n",
       "0  tt0369610        10                            Джурасик свят     BG   \n",
       "1  tt0369610        11                        Jurashikku warudo     JP   \n",
       "2  tt0369610        12  Jurassic World: O Mundo dos Dinossauros     BR   \n",
       "3  tt0369610        13                  O Mundo dos Dinossauros     BR   \n",
       "4  tt0369610        14                           Jurassic World     FR   \n",
       "5  tt0369610        15                           Jurassic World     GR   \n",
       "6  tt0369610        16                           Jurassic World     IT   \n",
       "7  tt0369610        17                            Jurski svijet     HR   \n",
       "8  tt0369610        18                             Olam ha'Yura     IL   \n",
       "9  tt0369610        19           Jurassic World: Mundo Jurásico     MX   \n",
       "\n",
       "  language        types   attributes  is_original_title  \n",
       "0       bg         None         None                0.0  \n",
       "1     None  imdbDisplay         None                0.0  \n",
       "2     None  imdbDisplay         None                0.0  \n",
       "3     None         None  short title                0.0  \n",
       "4     None  imdbDisplay         None                0.0  \n",
       "5     None  imdbDisplay         None                0.0  \n",
       "6     None  imdbDisplay         None                0.0  \n",
       "7     None  imdbDisplay         None                0.0  \n",
       "8       he  imdbDisplay         None                0.0  \n",
       "9     None  imdbDisplay         None                0.0  "
      ]
     },
     "execution_count": 6,
     "metadata": {},
     "output_type": "execute_result"
    }
   ],
   "source": [
    "table4 = \"\"\"\n",
    "SELECT * FROM movie_akas\n",
    "LIMIT 10;\n",
    "\"\"\"\n",
    "pd.read_sql(table4, conn)"
   ]
  },
  {
   "cell_type": "markdown",
   "id": "6b67936c",
   "metadata": {},
   "source": [
    "> At first glance, the above table has no relevant information to use in the analysis that is not already in other preceeding tables"
   ]
  },
  {
   "cell_type": "markdown",
   "id": "5a2b2fb5",
   "metadata": {},
   "source": [
    "**Movie Ratings Table**"
   ]
  },
  {
   "cell_type": "code",
   "execution_count": 7,
   "id": "83ce27b2",
   "metadata": {},
   "outputs": [
    {
     "data": {
      "text/html": [
       "<div>\n",
       "<style scoped>\n",
       "    .dataframe tbody tr th:only-of-type {\n",
       "        vertical-align: middle;\n",
       "    }\n",
       "\n",
       "    .dataframe tbody tr th {\n",
       "        vertical-align: top;\n",
       "    }\n",
       "\n",
       "    .dataframe thead th {\n",
       "        text-align: right;\n",
       "    }\n",
       "</style>\n",
       "<table border=\"1\" class=\"dataframe\">\n",
       "  <thead>\n",
       "    <tr style=\"text-align: right;\">\n",
       "      <th></th>\n",
       "      <th>movie_id</th>\n",
       "      <th>averagerating</th>\n",
       "      <th>numvotes</th>\n",
       "    </tr>\n",
       "  </thead>\n",
       "  <tbody>\n",
       "    <tr>\n",
       "      <th>0</th>\n",
       "      <td>tt10356526</td>\n",
       "      <td>8.3</td>\n",
       "      <td>31</td>\n",
       "    </tr>\n",
       "    <tr>\n",
       "      <th>1</th>\n",
       "      <td>tt10384606</td>\n",
       "      <td>8.9</td>\n",
       "      <td>559</td>\n",
       "    </tr>\n",
       "    <tr>\n",
       "      <th>2</th>\n",
       "      <td>tt1042974</td>\n",
       "      <td>6.4</td>\n",
       "      <td>20</td>\n",
       "    </tr>\n",
       "    <tr>\n",
       "      <th>3</th>\n",
       "      <td>tt1043726</td>\n",
       "      <td>4.2</td>\n",
       "      <td>50352</td>\n",
       "    </tr>\n",
       "    <tr>\n",
       "      <th>4</th>\n",
       "      <td>tt1060240</td>\n",
       "      <td>6.5</td>\n",
       "      <td>21</td>\n",
       "    </tr>\n",
       "    <tr>\n",
       "      <th>5</th>\n",
       "      <td>tt1069246</td>\n",
       "      <td>6.2</td>\n",
       "      <td>326</td>\n",
       "    </tr>\n",
       "    <tr>\n",
       "      <th>6</th>\n",
       "      <td>tt1094666</td>\n",
       "      <td>7.0</td>\n",
       "      <td>1613</td>\n",
       "    </tr>\n",
       "    <tr>\n",
       "      <th>7</th>\n",
       "      <td>tt1130982</td>\n",
       "      <td>6.4</td>\n",
       "      <td>571</td>\n",
       "    </tr>\n",
       "    <tr>\n",
       "      <th>8</th>\n",
       "      <td>tt1156528</td>\n",
       "      <td>7.2</td>\n",
       "      <td>265</td>\n",
       "    </tr>\n",
       "    <tr>\n",
       "      <th>9</th>\n",
       "      <td>tt1161457</td>\n",
       "      <td>4.2</td>\n",
       "      <td>148</td>\n",
       "    </tr>\n",
       "  </tbody>\n",
       "</table>\n",
       "</div>"
      ],
      "text/plain": [
       "     movie_id  averagerating  numvotes\n",
       "0  tt10356526            8.3        31\n",
       "1  tt10384606            8.9       559\n",
       "2   tt1042974            6.4        20\n",
       "3   tt1043726            4.2     50352\n",
       "4   tt1060240            6.5        21\n",
       "5   tt1069246            6.2       326\n",
       "6   tt1094666            7.0      1613\n",
       "7   tt1130982            6.4       571\n",
       "8   tt1156528            7.2       265\n",
       "9   tt1161457            4.2       148"
      ]
     },
     "execution_count": 7,
     "metadata": {},
     "output_type": "execute_result"
    }
   ],
   "source": [
    "table5 = \"\"\"\n",
    "SELECT * FROM movie_ratings\n",
    "LIMIT 10;\n",
    "\"\"\"\n",
    "\n",
    "pd.read_sql(table5, conn)"
   ]
  },
  {
   "cell_type": "markdown",
   "id": "d3898a50",
   "metadata": {},
   "source": [
    "> The above table seems to be conveying the average rating for a movie as well as the number of votes contributing to said rating"
   ]
  },
  {
   "cell_type": "markdown",
   "id": "89ceb3e9",
   "metadata": {},
   "source": [
    "**Known For**"
   ]
  },
  {
   "cell_type": "code",
   "execution_count": 8,
   "id": "d3e31882",
   "metadata": {},
   "outputs": [
    {
     "data": {
      "text/html": [
       "<div>\n",
       "<style scoped>\n",
       "    .dataframe tbody tr th:only-of-type {\n",
       "        vertical-align: middle;\n",
       "    }\n",
       "\n",
       "    .dataframe tbody tr th {\n",
       "        vertical-align: top;\n",
       "    }\n",
       "\n",
       "    .dataframe thead th {\n",
       "        text-align: right;\n",
       "    }\n",
       "</style>\n",
       "<table border=\"1\" class=\"dataframe\">\n",
       "  <thead>\n",
       "    <tr style=\"text-align: right;\">\n",
       "      <th></th>\n",
       "      <th>person_id</th>\n",
       "      <th>movie_id</th>\n",
       "    </tr>\n",
       "  </thead>\n",
       "  <tbody>\n",
       "    <tr>\n",
       "      <th>0</th>\n",
       "      <td>nm0061671</td>\n",
       "      <td>tt0837562</td>\n",
       "    </tr>\n",
       "    <tr>\n",
       "      <th>1</th>\n",
       "      <td>nm0061671</td>\n",
       "      <td>tt2398241</td>\n",
       "    </tr>\n",
       "    <tr>\n",
       "      <th>2</th>\n",
       "      <td>nm0061671</td>\n",
       "      <td>tt0844471</td>\n",
       "    </tr>\n",
       "    <tr>\n",
       "      <th>3</th>\n",
       "      <td>nm0061671</td>\n",
       "      <td>tt0118553</td>\n",
       "    </tr>\n",
       "    <tr>\n",
       "      <th>4</th>\n",
       "      <td>nm0061865</td>\n",
       "      <td>tt0896534</td>\n",
       "    </tr>\n",
       "    <tr>\n",
       "      <th>5</th>\n",
       "      <td>nm0061865</td>\n",
       "      <td>tt6791238</td>\n",
       "    </tr>\n",
       "    <tr>\n",
       "      <th>6</th>\n",
       "      <td>nm0061865</td>\n",
       "      <td>tt0287072</td>\n",
       "    </tr>\n",
       "    <tr>\n",
       "      <th>7</th>\n",
       "      <td>nm0061865</td>\n",
       "      <td>tt1682940</td>\n",
       "    </tr>\n",
       "    <tr>\n",
       "      <th>8</th>\n",
       "      <td>nm0062070</td>\n",
       "      <td>tt1470654</td>\n",
       "    </tr>\n",
       "    <tr>\n",
       "      <th>9</th>\n",
       "      <td>nm0062070</td>\n",
       "      <td>tt0363631</td>\n",
       "    </tr>\n",
       "  </tbody>\n",
       "</table>\n",
       "</div>"
      ],
      "text/plain": [
       "   person_id   movie_id\n",
       "0  nm0061671  tt0837562\n",
       "1  nm0061671  tt2398241\n",
       "2  nm0061671  tt0844471\n",
       "3  nm0061671  tt0118553\n",
       "4  nm0061865  tt0896534\n",
       "5  nm0061865  tt6791238\n",
       "6  nm0061865  tt0287072\n",
       "7  nm0061865  tt1682940\n",
       "8  nm0062070  tt1470654\n",
       "9  nm0062070  tt0363631"
      ]
     },
     "execution_count": 8,
     "metadata": {},
     "output_type": "execute_result"
    }
   ],
   "source": [
    "table6 = \"\"\"\n",
    "SELECT * FROM known_for\n",
    "LIMIT 10;\n",
    "\"\"\"\n",
    "\n",
    "pd.read_sql(table6, conn)"
   ]
  },
  {
   "cell_type": "markdown",
   "id": "fe2cfa5f",
   "metadata": {},
   "source": [
    "> Going off on a limb, the data above probably represents actors and which works they are famous for."
   ]
  },
  {
   "cell_type": "markdown",
   "id": "fa9c0b32",
   "metadata": {},
   "source": [
    "**Principals**"
   ]
  },
  {
   "cell_type": "code",
   "execution_count": 9,
   "id": "8f2f9b78",
   "metadata": {},
   "outputs": [
    {
     "data": {
      "text/html": [
       "<div>\n",
       "<style scoped>\n",
       "    .dataframe tbody tr th:only-of-type {\n",
       "        vertical-align: middle;\n",
       "    }\n",
       "\n",
       "    .dataframe tbody tr th {\n",
       "        vertical-align: top;\n",
       "    }\n",
       "\n",
       "    .dataframe thead th {\n",
       "        text-align: right;\n",
       "    }\n",
       "</style>\n",
       "<table border=\"1\" class=\"dataframe\">\n",
       "  <thead>\n",
       "    <tr style=\"text-align: right;\">\n",
       "      <th></th>\n",
       "      <th>movie_id</th>\n",
       "      <th>ordering</th>\n",
       "      <th>person_id</th>\n",
       "      <th>category</th>\n",
       "      <th>job</th>\n",
       "      <th>characters</th>\n",
       "    </tr>\n",
       "  </thead>\n",
       "  <tbody>\n",
       "    <tr>\n",
       "      <th>0</th>\n",
       "      <td>tt0111414</td>\n",
       "      <td>1</td>\n",
       "      <td>nm0246005</td>\n",
       "      <td>actor</td>\n",
       "      <td>None</td>\n",
       "      <td>[\"The Man\"]</td>\n",
       "    </tr>\n",
       "    <tr>\n",
       "      <th>1</th>\n",
       "      <td>tt0111414</td>\n",
       "      <td>2</td>\n",
       "      <td>nm0398271</td>\n",
       "      <td>director</td>\n",
       "      <td>None</td>\n",
       "      <td>None</td>\n",
       "    </tr>\n",
       "    <tr>\n",
       "      <th>2</th>\n",
       "      <td>tt0111414</td>\n",
       "      <td>3</td>\n",
       "      <td>nm3739909</td>\n",
       "      <td>producer</td>\n",
       "      <td>producer</td>\n",
       "      <td>None</td>\n",
       "    </tr>\n",
       "    <tr>\n",
       "      <th>3</th>\n",
       "      <td>tt0323808</td>\n",
       "      <td>10</td>\n",
       "      <td>nm0059247</td>\n",
       "      <td>editor</td>\n",
       "      <td>None</td>\n",
       "      <td>None</td>\n",
       "    </tr>\n",
       "    <tr>\n",
       "      <th>4</th>\n",
       "      <td>tt0323808</td>\n",
       "      <td>1</td>\n",
       "      <td>nm3579312</td>\n",
       "      <td>actress</td>\n",
       "      <td>None</td>\n",
       "      <td>[\"Beth Boothby\"]</td>\n",
       "    </tr>\n",
       "    <tr>\n",
       "      <th>5</th>\n",
       "      <td>tt0323808</td>\n",
       "      <td>2</td>\n",
       "      <td>nm2694680</td>\n",
       "      <td>actor</td>\n",
       "      <td>None</td>\n",
       "      <td>[\"Steve Thomson\"]</td>\n",
       "    </tr>\n",
       "    <tr>\n",
       "      <th>6</th>\n",
       "      <td>tt0323808</td>\n",
       "      <td>3</td>\n",
       "      <td>nm0574615</td>\n",
       "      <td>actor</td>\n",
       "      <td>None</td>\n",
       "      <td>[\"Sir Lachlan Morrison\"]</td>\n",
       "    </tr>\n",
       "    <tr>\n",
       "      <th>7</th>\n",
       "      <td>tt0323808</td>\n",
       "      <td>4</td>\n",
       "      <td>nm0502652</td>\n",
       "      <td>actress</td>\n",
       "      <td>None</td>\n",
       "      <td>[\"Lady Delia Morrison\"]</td>\n",
       "    </tr>\n",
       "    <tr>\n",
       "      <th>8</th>\n",
       "      <td>tt0323808</td>\n",
       "      <td>5</td>\n",
       "      <td>nm0362736</td>\n",
       "      <td>director</td>\n",
       "      <td>None</td>\n",
       "      <td>None</td>\n",
       "    </tr>\n",
       "    <tr>\n",
       "      <th>9</th>\n",
       "      <td>tt0323808</td>\n",
       "      <td>6</td>\n",
       "      <td>nm0811056</td>\n",
       "      <td>producer</td>\n",
       "      <td>producer</td>\n",
       "      <td>None</td>\n",
       "    </tr>\n",
       "  </tbody>\n",
       "</table>\n",
       "</div>"
      ],
      "text/plain": [
       "    movie_id  ordering  person_id  category       job  \\\n",
       "0  tt0111414         1  nm0246005     actor      None   \n",
       "1  tt0111414         2  nm0398271  director      None   \n",
       "2  tt0111414         3  nm3739909  producer  producer   \n",
       "3  tt0323808        10  nm0059247    editor      None   \n",
       "4  tt0323808         1  nm3579312   actress      None   \n",
       "5  tt0323808         2  nm2694680     actor      None   \n",
       "6  tt0323808         3  nm0574615     actor      None   \n",
       "7  tt0323808         4  nm0502652   actress      None   \n",
       "8  tt0323808         5  nm0362736  director      None   \n",
       "9  tt0323808         6  nm0811056  producer  producer   \n",
       "\n",
       "                 characters  \n",
       "0               [\"The Man\"]  \n",
       "1                      None  \n",
       "2                      None  \n",
       "3                      None  \n",
       "4          [\"Beth Boothby\"]  \n",
       "5         [\"Steve Thomson\"]  \n",
       "6  [\"Sir Lachlan Morrison\"]  \n",
       "7   [\"Lady Delia Morrison\"]  \n",
       "8                      None  \n",
       "9                      None  "
      ]
     },
     "execution_count": 9,
     "metadata": {},
     "output_type": "execute_result"
    }
   ],
   "source": [
    "table7 = \"\"\"\n",
    "SELECT * FROM principals\n",
    "LIMIT 10;\n",
    "\"\"\"\n",
    "\n",
    "pd.read_sql(table7, conn)"
   ]
  },
  {
   "cell_type": "markdown",
   "id": "4d1b2be0",
   "metadata": {},
   "source": [
    "> The above data will not be used in the analysis to follow."
   ]
  },
  {
   "cell_type": "markdown",
   "id": "3a836fd3",
   "metadata": {},
   "source": [
    "**Persons**"
   ]
  },
  {
   "cell_type": "code",
   "execution_count": 10,
   "id": "285aaee5",
   "metadata": {},
   "outputs": [
    {
     "data": {
      "text/html": [
       "<div>\n",
       "<style scoped>\n",
       "    .dataframe tbody tr th:only-of-type {\n",
       "        vertical-align: middle;\n",
       "    }\n",
       "\n",
       "    .dataframe tbody tr th {\n",
       "        vertical-align: top;\n",
       "    }\n",
       "\n",
       "    .dataframe thead th {\n",
       "        text-align: right;\n",
       "    }\n",
       "</style>\n",
       "<table border=\"1\" class=\"dataframe\">\n",
       "  <thead>\n",
       "    <tr style=\"text-align: right;\">\n",
       "      <th></th>\n",
       "      <th>person_id</th>\n",
       "      <th>primary_name</th>\n",
       "      <th>birth_year</th>\n",
       "      <th>death_year</th>\n",
       "      <th>primary_profession</th>\n",
       "    </tr>\n",
       "  </thead>\n",
       "  <tbody>\n",
       "    <tr>\n",
       "      <th>0</th>\n",
       "      <td>nm0061671</td>\n",
       "      <td>Mary Ellen Bauder</td>\n",
       "      <td>NaN</td>\n",
       "      <td>None</td>\n",
       "      <td>miscellaneous,production_manager,producer</td>\n",
       "    </tr>\n",
       "    <tr>\n",
       "      <th>1</th>\n",
       "      <td>nm0061865</td>\n",
       "      <td>Joseph Bauer</td>\n",
       "      <td>NaN</td>\n",
       "      <td>None</td>\n",
       "      <td>composer,music_department,sound_department</td>\n",
       "    </tr>\n",
       "    <tr>\n",
       "      <th>2</th>\n",
       "      <td>nm0062070</td>\n",
       "      <td>Bruce Baum</td>\n",
       "      <td>NaN</td>\n",
       "      <td>None</td>\n",
       "      <td>miscellaneous,actor,writer</td>\n",
       "    </tr>\n",
       "    <tr>\n",
       "      <th>3</th>\n",
       "      <td>nm0062195</td>\n",
       "      <td>Axel Baumann</td>\n",
       "      <td>NaN</td>\n",
       "      <td>None</td>\n",
       "      <td>camera_department,cinematographer,art_department</td>\n",
       "    </tr>\n",
       "    <tr>\n",
       "      <th>4</th>\n",
       "      <td>nm0062798</td>\n",
       "      <td>Pete Baxter</td>\n",
       "      <td>NaN</td>\n",
       "      <td>None</td>\n",
       "      <td>production_designer,art_department,set_decorator</td>\n",
       "    </tr>\n",
       "    <tr>\n",
       "      <th>5</th>\n",
       "      <td>nm0062879</td>\n",
       "      <td>Ruel S. Bayani</td>\n",
       "      <td>NaN</td>\n",
       "      <td>None</td>\n",
       "      <td>director,production_manager,miscellaneous</td>\n",
       "    </tr>\n",
       "    <tr>\n",
       "      <th>6</th>\n",
       "      <td>nm0063198</td>\n",
       "      <td>Bayou</td>\n",
       "      <td>NaN</td>\n",
       "      <td>None</td>\n",
       "      <td>actor</td>\n",
       "    </tr>\n",
       "    <tr>\n",
       "      <th>7</th>\n",
       "      <td>nm0063432</td>\n",
       "      <td>Stevie Be-Zet</td>\n",
       "      <td>NaN</td>\n",
       "      <td>None</td>\n",
       "      <td>composer,soundtrack</td>\n",
       "    </tr>\n",
       "    <tr>\n",
       "      <th>8</th>\n",
       "      <td>nm0063618</td>\n",
       "      <td>Jeff Beal</td>\n",
       "      <td>1963.0</td>\n",
       "      <td>None</td>\n",
       "      <td>composer,music_department,soundtrack</td>\n",
       "    </tr>\n",
       "    <tr>\n",
       "      <th>9</th>\n",
       "      <td>nm0063750</td>\n",
       "      <td>Lindsay Beamish</td>\n",
       "      <td>NaN</td>\n",
       "      <td>None</td>\n",
       "      <td>actress,miscellaneous</td>\n",
       "    </tr>\n",
       "  </tbody>\n",
       "</table>\n",
       "</div>"
      ],
      "text/plain": [
       "   person_id       primary_name  birth_year death_year  \\\n",
       "0  nm0061671  Mary Ellen Bauder         NaN       None   \n",
       "1  nm0061865       Joseph Bauer         NaN       None   \n",
       "2  nm0062070         Bruce Baum         NaN       None   \n",
       "3  nm0062195       Axel Baumann         NaN       None   \n",
       "4  nm0062798        Pete Baxter         NaN       None   \n",
       "5  nm0062879     Ruel S. Bayani         NaN       None   \n",
       "6  nm0063198              Bayou         NaN       None   \n",
       "7  nm0063432      Stevie Be-Zet         NaN       None   \n",
       "8  nm0063618          Jeff Beal      1963.0       None   \n",
       "9  nm0063750    Lindsay Beamish         NaN       None   \n",
       "\n",
       "                                 primary_profession  \n",
       "0         miscellaneous,production_manager,producer  \n",
       "1        composer,music_department,sound_department  \n",
       "2                        miscellaneous,actor,writer  \n",
       "3  camera_department,cinematographer,art_department  \n",
       "4  production_designer,art_department,set_decorator  \n",
       "5         director,production_manager,miscellaneous  \n",
       "6                                             actor  \n",
       "7                               composer,soundtrack  \n",
       "8              composer,music_department,soundtrack  \n",
       "9                             actress,miscellaneous  "
      ]
     },
     "execution_count": 10,
     "metadata": {},
     "output_type": "execute_result"
    }
   ],
   "source": [
    "table8 = \"\"\"\n",
    "SELECT * FROM persons\n",
    "LIMIT 10;\n",
    "\"\"\"\n",
    "\n",
    "pd.read_sql(table8, conn)"
   ]
  },
  {
   "cell_type": "markdown",
   "id": "a9d92c53",
   "metadata": {},
   "source": [
    "> This table details what professions key individuals in the database do and when they were born/laid to rest; it is not relevant to the ensuing analysis."
   ]
  },
  {
   "cell_type": "markdown",
   "id": "20566a3d",
   "metadata": {},
   "source": [
    "## Loading Data"
   ]
  },
  {
   "cell_type": "markdown",
   "id": "94d5488e",
   "metadata": {},
   "source": [
    "### From Database"
   ]
  },
  {
   "cell_type": "code",
   "execution_count": 11,
   "id": "4f7eec4c",
   "metadata": {},
   "outputs": [
    {
     "name": "stdout",
     "output_type": "stream",
     "text": [
      "(73052, 6)\n",
      "\n"
     ]
    },
    {
     "data": {
      "text/html": [
       "<div>\n",
       "<style scoped>\n",
       "    .dataframe tbody tr th:only-of-type {\n",
       "        vertical-align: middle;\n",
       "    }\n",
       "\n",
       "    .dataframe tbody tr th {\n",
       "        vertical-align: top;\n",
       "    }\n",
       "\n",
       "    .dataframe thead th {\n",
       "        text-align: right;\n",
       "    }\n",
       "</style>\n",
       "<table border=\"1\" class=\"dataframe\">\n",
       "  <thead>\n",
       "    <tr style=\"text-align: right;\">\n",
       "      <th></th>\n",
       "      <th>primary_title</th>\n",
       "      <th>start_year</th>\n",
       "      <th>runtime_minutes</th>\n",
       "      <th>genres</th>\n",
       "      <th>averagerating</th>\n",
       "      <th>numvotes</th>\n",
       "    </tr>\n",
       "  </thead>\n",
       "  <tbody>\n",
       "    <tr>\n",
       "      <th>0</th>\n",
       "      <td>Sunghursh</td>\n",
       "      <td>2013</td>\n",
       "      <td>175.0</td>\n",
       "      <td>Action,Crime,Drama</td>\n",
       "      <td>7.0</td>\n",
       "      <td>77</td>\n",
       "    </tr>\n",
       "    <tr>\n",
       "      <th>1</th>\n",
       "      <td>One Day Before the Rainy Season</td>\n",
       "      <td>2019</td>\n",
       "      <td>114.0</td>\n",
       "      <td>Biography,Drama</td>\n",
       "      <td>7.2</td>\n",
       "      <td>43</td>\n",
       "    </tr>\n",
       "    <tr>\n",
       "      <th>2</th>\n",
       "      <td>The Other Side of the Wind</td>\n",
       "      <td>2018</td>\n",
       "      <td>122.0</td>\n",
       "      <td>Drama</td>\n",
       "      <td>6.9</td>\n",
       "      <td>4517</td>\n",
       "    </tr>\n",
       "    <tr>\n",
       "      <th>3</th>\n",
       "      <td>Sabse Bada Sukh</td>\n",
       "      <td>2018</td>\n",
       "      <td>NaN</td>\n",
       "      <td>Comedy,Drama</td>\n",
       "      <td>6.1</td>\n",
       "      <td>13</td>\n",
       "    </tr>\n",
       "    <tr>\n",
       "      <th>4</th>\n",
       "      <td>The Wandering Soap Opera</td>\n",
       "      <td>2017</td>\n",
       "      <td>80.0</td>\n",
       "      <td>Comedy,Drama,Fantasy</td>\n",
       "      <td>6.5</td>\n",
       "      <td>119</td>\n",
       "    </tr>\n",
       "  </tbody>\n",
       "</table>\n",
       "</div>"
      ],
      "text/plain": [
       "                     primary_title  start_year  runtime_minutes  \\\n",
       "0                        Sunghursh        2013            175.0   \n",
       "1  One Day Before the Rainy Season        2019            114.0   \n",
       "2       The Other Side of the Wind        2018            122.0   \n",
       "3                  Sabse Bada Sukh        2018              NaN   \n",
       "4         The Wandering Soap Opera        2017             80.0   \n",
       "\n",
       "                 genres  averagerating  numvotes  \n",
       "0    Action,Crime,Drama            7.0        77  \n",
       "1       Biography,Drama            7.2        43  \n",
       "2                 Drama            6.9      4517  \n",
       "3          Comedy,Drama            6.1        13  \n",
       "4  Comedy,Drama,Fantasy            6.5       119  "
      ]
     },
     "execution_count": 11,
     "metadata": {},
     "output_type": "execute_result"
    }
   ],
   "source": [
    "# Joining relevant information into a single table\n",
    "movieBasicsDf = pd.read_sql(\"\"\"\n",
    "                SELECT primary_title, start_year, runtime_minutes, genres, averagerating, numvotes\n",
    "                FROM movie_basics\n",
    "                JOIN movie_ratings\n",
    "                    USING(movie_id)\n",
    "                WHERE genres IS NOT NULL;\n",
    "                \"\"\", conn)\n",
    "\n",
    "print(movieBasicsDf.shape, end=\"\\n\\n\")\n",
    "movieBasicsDf.head()"
   ]
  },
  {
   "cell_type": "markdown",
   "id": "f289b67f",
   "metadata": {},
   "source": [
    "## From Flat Files"
   ]
  },
  {
   "cell_type": "code",
   "execution_count": 12,
   "id": "5300a4c5",
   "metadata": {},
   "outputs": [
    {
     "name": "stdout",
     "output_type": "stream",
     "text": [
      "bom.movie_gross.csv\n",
      "im.db\n",
      "rt.movie_info.tsv\n",
      "rt.reviews.tsv\n",
      "tmdb.movies.csv\n",
      "tn.movie_budgets.csv\n"
     ]
    }
   ],
   "source": [
    "!ls ./data"
   ]
  },
  {
   "cell_type": "code",
   "execution_count": 13,
   "id": "7600dbf7",
   "metadata": {},
   "outputs": [],
   "source": [
    "movieGrossDf = pd.read_csv(\"./data/bom.movie_gross.csv\")\n",
    "movieInfoDf = pd.read_csv(\"./data/rt.movie_info.tsv\", delimiter=\"\\t\")\n",
    "movieBudgetsDf = pd.read_csv(\"./data/tn.movie_budgets.csv\")\n",
    "imdbRatingsDf = pd.read_csv(\"./data/tmdb.movies.csv\", index_col=0)"
   ]
  },
  {
   "cell_type": "markdown",
   "id": "de3593af",
   "metadata": {},
   "source": [
    "### Basic Information from Datasets"
   ]
  },
  {
   "cell_type": "code",
   "execution_count": 14,
   "id": "d580d1ad",
   "metadata": {},
   "outputs": [
    {
     "name": "stdout",
     "output_type": "stream",
     "text": [
      "<class 'pandas.core.frame.DataFrame'>\n",
      "RangeIndex: 73052 entries, 0 to 73051\n",
      "Data columns (total 6 columns):\n",
      " #   Column           Non-Null Count  Dtype  \n",
      "---  ------           --------------  -----  \n",
      " 0   primary_title    73052 non-null  object \n",
      " 1   start_year       73052 non-null  int64  \n",
      " 2   runtime_minutes  65720 non-null  float64\n",
      " 3   genres           73052 non-null  object \n",
      " 4   averagerating    73052 non-null  float64\n",
      " 5   numvotes         73052 non-null  int64  \n",
      "dtypes: float64(2), int64(2), object(2)\n",
      "memory usage: 3.3+ MB\n"
     ]
    }
   ],
   "source": [
    "# Movie Basics\n",
    "movieBasicsDf.info()"
   ]
  },
  {
   "cell_type": "markdown",
   "id": "d6cf61b3",
   "metadata": {},
   "source": [
    "> The above data has 6 columns and 73,052 rows.\n",
    "All of the null values are focused around runtime length.\n",
    "The data types for respective fields is seemingly appropriate. "
   ]
  },
  {
   "cell_type": "code",
   "execution_count": 15,
   "id": "3a1be349",
   "metadata": {},
   "outputs": [
    {
     "name": "stdout",
     "output_type": "stream",
     "text": [
      "<class 'pandas.core.frame.DataFrame'>\n",
      "RangeIndex: 3387 entries, 0 to 3386\n",
      "Data columns (total 5 columns):\n",
      " #   Column          Non-Null Count  Dtype  \n",
      "---  ------          --------------  -----  \n",
      " 0   title           3387 non-null   object \n",
      " 1   studio          3382 non-null   object \n",
      " 2   domestic_gross  3359 non-null   float64\n",
      " 3   foreign_gross   2037 non-null   object \n",
      " 4   year            3387 non-null   int64  \n",
      "dtypes: float64(1), int64(1), object(3)\n",
      "memory usage: 132.4+ KB\n"
     ]
    }
   ],
   "source": [
    "# Movie Gross\n",
    "movieGrossDf.info()"
   ]
  },
  {
   "cell_type": "markdown",
   "id": "f8ab26fe",
   "metadata": {},
   "source": [
    "> The above data has 3387 rows and 5 columns.\n",
    "\n",
    "1. Studio field has 5 null values\n",
    "2. Domestic gross has 28 null values\n",
    "3. Foreign gross has 350 null values\n",
    "\n",
    "The only field with an incorrect data type for analysis purpose is Foreign Gross. This needs to be converted to numeric."
   ]
  },
  {
   "cell_type": "code",
   "execution_count": 16,
   "id": "a15838dc",
   "metadata": {},
   "outputs": [
    {
     "name": "stdout",
     "output_type": "stream",
     "text": [
      "<class 'pandas.core.frame.DataFrame'>\n",
      "RangeIndex: 1560 entries, 0 to 1559\n",
      "Data columns (total 12 columns):\n",
      " #   Column        Non-Null Count  Dtype \n",
      "---  ------        --------------  ----- \n",
      " 0   id            1560 non-null   int64 \n",
      " 1   synopsis      1498 non-null   object\n",
      " 2   rating        1557 non-null   object\n",
      " 3   genre         1552 non-null   object\n",
      " 4   director      1361 non-null   object\n",
      " 5   writer        1111 non-null   object\n",
      " 6   theater_date  1201 non-null   object\n",
      " 7   dvd_date      1201 non-null   object\n",
      " 8   currency      340 non-null    object\n",
      " 9   box_office    340 non-null    object\n",
      " 10  runtime       1530 non-null   object\n",
      " 11  studio        494 non-null    object\n",
      "dtypes: int64(1), object(11)\n",
      "memory usage: 146.4+ KB\n"
     ]
    }
   ],
   "source": [
    "# Movie Info\n",
    "movieInfoDf.info()"
   ]
  },
  {
   "cell_type": "code",
   "execution_count": 17,
   "id": "9c3bd0e0",
   "metadata": {},
   "outputs": [
    {
     "data": {
      "text/html": [
       "<div>\n",
       "<style scoped>\n",
       "    .dataframe tbody tr th:only-of-type {\n",
       "        vertical-align: middle;\n",
       "    }\n",
       "\n",
       "    .dataframe tbody tr th {\n",
       "        vertical-align: top;\n",
       "    }\n",
       "\n",
       "    .dataframe thead th {\n",
       "        text-align: right;\n",
       "    }\n",
       "</style>\n",
       "<table border=\"1\" class=\"dataframe\">\n",
       "  <thead>\n",
       "    <tr style=\"text-align: right;\">\n",
       "      <th></th>\n",
       "      <th>id</th>\n",
       "      <th>synopsis</th>\n",
       "      <th>rating</th>\n",
       "      <th>genre</th>\n",
       "      <th>director</th>\n",
       "      <th>writer</th>\n",
       "      <th>theater_date</th>\n",
       "      <th>dvd_date</th>\n",
       "      <th>currency</th>\n",
       "      <th>box_office</th>\n",
       "      <th>runtime</th>\n",
       "      <th>studio</th>\n",
       "    </tr>\n",
       "  </thead>\n",
       "  <tbody>\n",
       "    <tr>\n",
       "      <th>0</th>\n",
       "      <td>1</td>\n",
       "      <td>This gritty, fast-paced, and innovative police...</td>\n",
       "      <td>R</td>\n",
       "      <td>Action and Adventure|Classics|Drama</td>\n",
       "      <td>William Friedkin</td>\n",
       "      <td>Ernest Tidyman</td>\n",
       "      <td>Oct 9, 1971</td>\n",
       "      <td>Sep 25, 2001</td>\n",
       "      <td>NaN</td>\n",
       "      <td>NaN</td>\n",
       "      <td>104 minutes</td>\n",
       "      <td>NaN</td>\n",
       "    </tr>\n",
       "    <tr>\n",
       "      <th>1</th>\n",
       "      <td>3</td>\n",
       "      <td>New York City, not-too-distant-future: Eric Pa...</td>\n",
       "      <td>R</td>\n",
       "      <td>Drama|Science Fiction and Fantasy</td>\n",
       "      <td>David Cronenberg</td>\n",
       "      <td>David Cronenberg|Don DeLillo</td>\n",
       "      <td>Aug 17, 2012</td>\n",
       "      <td>Jan 1, 2013</td>\n",
       "      <td>$</td>\n",
       "      <td>600,000</td>\n",
       "      <td>108 minutes</td>\n",
       "      <td>Entertainment One</td>\n",
       "    </tr>\n",
       "    <tr>\n",
       "      <th>2</th>\n",
       "      <td>5</td>\n",
       "      <td>Illeana Douglas delivers a superb performance ...</td>\n",
       "      <td>R</td>\n",
       "      <td>Drama|Musical and Performing Arts</td>\n",
       "      <td>Allison Anders</td>\n",
       "      <td>Allison Anders</td>\n",
       "      <td>Sep 13, 1996</td>\n",
       "      <td>Apr 18, 2000</td>\n",
       "      <td>NaN</td>\n",
       "      <td>NaN</td>\n",
       "      <td>116 minutes</td>\n",
       "      <td>NaN</td>\n",
       "    </tr>\n",
       "    <tr>\n",
       "      <th>3</th>\n",
       "      <td>6</td>\n",
       "      <td>Michael Douglas runs afoul of a treacherous su...</td>\n",
       "      <td>R</td>\n",
       "      <td>Drama|Mystery and Suspense</td>\n",
       "      <td>Barry Levinson</td>\n",
       "      <td>Paul Attanasio|Michael Crichton</td>\n",
       "      <td>Dec 9, 1994</td>\n",
       "      <td>Aug 27, 1997</td>\n",
       "      <td>NaN</td>\n",
       "      <td>NaN</td>\n",
       "      <td>128 minutes</td>\n",
       "      <td>NaN</td>\n",
       "    </tr>\n",
       "    <tr>\n",
       "      <th>4</th>\n",
       "      <td>7</td>\n",
       "      <td>NaN</td>\n",
       "      <td>NR</td>\n",
       "      <td>Drama|Romance</td>\n",
       "      <td>Rodney Bennett</td>\n",
       "      <td>Giles Cooper</td>\n",
       "      <td>NaN</td>\n",
       "      <td>NaN</td>\n",
       "      <td>NaN</td>\n",
       "      <td>NaN</td>\n",
       "      <td>200 minutes</td>\n",
       "      <td>NaN</td>\n",
       "    </tr>\n",
       "  </tbody>\n",
       "</table>\n",
       "</div>"
      ],
      "text/plain": [
       "   id                                           synopsis rating  \\\n",
       "0   1  This gritty, fast-paced, and innovative police...      R   \n",
       "1   3  New York City, not-too-distant-future: Eric Pa...      R   \n",
       "2   5  Illeana Douglas delivers a superb performance ...      R   \n",
       "3   6  Michael Douglas runs afoul of a treacherous su...      R   \n",
       "4   7                                                NaN     NR   \n",
       "\n",
       "                                 genre          director  \\\n",
       "0  Action and Adventure|Classics|Drama  William Friedkin   \n",
       "1    Drama|Science Fiction and Fantasy  David Cronenberg   \n",
       "2    Drama|Musical and Performing Arts    Allison Anders   \n",
       "3           Drama|Mystery and Suspense    Barry Levinson   \n",
       "4                        Drama|Romance    Rodney Bennett   \n",
       "\n",
       "                            writer  theater_date      dvd_date currency  \\\n",
       "0                   Ernest Tidyman   Oct 9, 1971  Sep 25, 2001      NaN   \n",
       "1     David Cronenberg|Don DeLillo  Aug 17, 2012   Jan 1, 2013        $   \n",
       "2                   Allison Anders  Sep 13, 1996  Apr 18, 2000      NaN   \n",
       "3  Paul Attanasio|Michael Crichton   Dec 9, 1994  Aug 27, 1997      NaN   \n",
       "4                     Giles Cooper           NaN           NaN      NaN   \n",
       "\n",
       "  box_office      runtime             studio  \n",
       "0        NaN  104 minutes                NaN  \n",
       "1    600,000  108 minutes  Entertainment One  \n",
       "2        NaN  116 minutes                NaN  \n",
       "3        NaN  128 minutes                NaN  \n",
       "4        NaN  200 minutes                NaN  "
      ]
     },
     "execution_count": 17,
     "metadata": {},
     "output_type": "execute_result"
    }
   ],
   "source": [
    "movieInfoDf.head()"
   ]
  },
  {
   "cell_type": "markdown",
   "id": "25544ca1",
   "metadata": {},
   "source": [
    "> The data has 12 columns and 1560 rows with a lot of null values\n",
    "\n",
    "The columns with meaningul information to the analysis - rating, director, runtime and studio, need wrangling(Consistency and Validity concerns) to be analysis ready."
   ]
  },
  {
   "cell_type": "code",
   "execution_count": 18,
   "id": "3763811f",
   "metadata": {},
   "outputs": [
    {
     "name": "stdout",
     "output_type": "stream",
     "text": [
      "<class 'pandas.core.frame.DataFrame'>\n",
      "RangeIndex: 5782 entries, 0 to 5781\n",
      "Data columns (total 6 columns):\n",
      " #   Column             Non-Null Count  Dtype \n",
      "---  ------             --------------  ----- \n",
      " 0   id                 5782 non-null   int64 \n",
      " 1   release_date       5782 non-null   object\n",
      " 2   movie              5782 non-null   object\n",
      " 3   production_budget  5782 non-null   object\n",
      " 4   domestic_gross     5782 non-null   object\n",
      " 5   worldwide_gross    5782 non-null   object\n",
      "dtypes: int64(1), object(5)\n",
      "memory usage: 271.2+ KB\n"
     ]
    }
   ],
   "source": [
    "# Movie Budgets\n",
    "\n",
    "movieBudgetsDf.info()"
   ]
  },
  {
   "cell_type": "markdown",
   "id": "ab6d1015",
   "metadata": {},
   "source": [
    "> The above data has 6 columns and 5782 rows with numbers-focused fields being casted as object-types.\n",
    "There are no missing values."
   ]
  },
  {
   "cell_type": "code",
   "execution_count": 19,
   "id": "2e33808b",
   "metadata": {},
   "outputs": [
    {
     "name": "stdout",
     "output_type": "stream",
     "text": [
      "<class 'pandas.core.frame.DataFrame'>\n",
      "Int64Index: 26517 entries, 0 to 26516\n",
      "Data columns (total 9 columns):\n",
      " #   Column             Non-Null Count  Dtype  \n",
      "---  ------             --------------  -----  \n",
      " 0   genre_ids          26517 non-null  object \n",
      " 1   id                 26517 non-null  int64  \n",
      " 2   original_language  26517 non-null  object \n",
      " 3   original_title     26517 non-null  object \n",
      " 4   popularity         26517 non-null  float64\n",
      " 5   release_date       26517 non-null  object \n",
      " 6   title              26517 non-null  object \n",
      " 7   vote_average       26517 non-null  float64\n",
      " 8   vote_count         26517 non-null  int64  \n",
      "dtypes: float64(2), int64(2), object(5)\n",
      "memory usage: 2.0+ MB\n"
     ]
    }
   ],
   "source": [
    "# IMDB data\n",
    "\n",
    "imdbRatingsDf.info()"
   ]
  },
  {
   "cell_type": "markdown",
   "id": "74d40d86",
   "metadata": {},
   "source": [
    "> The data above has 9 columns and 26517 rows with no missing values.\n",
    "Release date needs to be cast as datetime"
   ]
  },
  {
   "cell_type": "markdown",
   "id": "d7a99273",
   "metadata": {},
   "source": [
    "## Data Cleaning"
   ]
  },
  {
   "cell_type": "markdown",
   "id": "4399959e",
   "metadata": {},
   "source": [
    "## Movie Basics Dataset"
   ]
  },
  {
   "cell_type": "code",
   "execution_count": 20,
   "id": "cf3846bb",
   "metadata": {},
   "outputs": [
    {
     "data": {
      "text/html": [
       "<div>\n",
       "<style scoped>\n",
       "    .dataframe tbody tr th:only-of-type {\n",
       "        vertical-align: middle;\n",
       "    }\n",
       "\n",
       "    .dataframe tbody tr th {\n",
       "        vertical-align: top;\n",
       "    }\n",
       "\n",
       "    .dataframe thead th {\n",
       "        text-align: right;\n",
       "    }\n",
       "</style>\n",
       "<table border=\"1\" class=\"dataframe\">\n",
       "  <thead>\n",
       "    <tr style=\"text-align: right;\">\n",
       "      <th></th>\n",
       "      <th>primary_title</th>\n",
       "      <th>start_year</th>\n",
       "      <th>runtime_minutes</th>\n",
       "      <th>genres</th>\n",
       "      <th>averagerating</th>\n",
       "      <th>numvotes</th>\n",
       "    </tr>\n",
       "  </thead>\n",
       "  <tbody>\n",
       "    <tr>\n",
       "      <th>0</th>\n",
       "      <td>Sunghursh</td>\n",
       "      <td>2013</td>\n",
       "      <td>175.0</td>\n",
       "      <td>Action,Crime,Drama</td>\n",
       "      <td>7.0</td>\n",
       "      <td>77</td>\n",
       "    </tr>\n",
       "    <tr>\n",
       "      <th>1</th>\n",
       "      <td>One Day Before the Rainy Season</td>\n",
       "      <td>2019</td>\n",
       "      <td>114.0</td>\n",
       "      <td>Biography,Drama</td>\n",
       "      <td>7.2</td>\n",
       "      <td>43</td>\n",
       "    </tr>\n",
       "    <tr>\n",
       "      <th>2</th>\n",
       "      <td>The Other Side of the Wind</td>\n",
       "      <td>2018</td>\n",
       "      <td>122.0</td>\n",
       "      <td>Drama</td>\n",
       "      <td>6.9</td>\n",
       "      <td>4517</td>\n",
       "    </tr>\n",
       "    <tr>\n",
       "      <th>3</th>\n",
       "      <td>Sabse Bada Sukh</td>\n",
       "      <td>2018</td>\n",
       "      <td>NaN</td>\n",
       "      <td>Comedy,Drama</td>\n",
       "      <td>6.1</td>\n",
       "      <td>13</td>\n",
       "    </tr>\n",
       "    <tr>\n",
       "      <th>4</th>\n",
       "      <td>The Wandering Soap Opera</td>\n",
       "      <td>2017</td>\n",
       "      <td>80.0</td>\n",
       "      <td>Comedy,Drama,Fantasy</td>\n",
       "      <td>6.5</td>\n",
       "      <td>119</td>\n",
       "    </tr>\n",
       "  </tbody>\n",
       "</table>\n",
       "</div>"
      ],
      "text/plain": [
       "                     primary_title  start_year  runtime_minutes  \\\n",
       "0                        Sunghursh        2013            175.0   \n",
       "1  One Day Before the Rainy Season        2019            114.0   \n",
       "2       The Other Side of the Wind        2018            122.0   \n",
       "3                  Sabse Bada Sukh        2018              NaN   \n",
       "4         The Wandering Soap Opera        2017             80.0   \n",
       "\n",
       "                 genres  averagerating  numvotes  \n",
       "0    Action,Crime,Drama            7.0        77  \n",
       "1       Biography,Drama            7.2        43  \n",
       "2                 Drama            6.9      4517  \n",
       "3          Comedy,Drama            6.1        13  \n",
       "4  Comedy,Drama,Fantasy            6.5       119  "
      ]
     },
     "execution_count": 20,
     "metadata": {},
     "output_type": "execute_result"
    }
   ],
   "source": [
    "# Preview the first five rows\n",
    "\n",
    "movieBasicsDf.head()"
   ]
  },
  {
   "cell_type": "markdown",
   "id": "b484bd45",
   "metadata": {},
   "source": [
    "#### Completeness"
   ]
  },
  {
   "cell_type": "markdown",
   "id": "41b0e306",
   "metadata": {},
   "source": [
    "Since the missing values account for roughly 8000/73000 rows, imputing them with aggregate values would skew the data. The best option in this scenario would be to drop them as they would have minimal effect on how much data is left."
   ]
  },
  {
   "cell_type": "code",
   "execution_count": 21,
   "id": "c96e037b",
   "metadata": {},
   "outputs": [],
   "source": [
    "# Dropping nulll values\n",
    "\n",
    "movieBasicsDf.dropna(subset=['runtime_minutes'],inplace=True)"
   ]
  },
  {
   "cell_type": "code",
   "execution_count": 22,
   "id": "8a659571",
   "metadata": {
    "scrolled": true
   },
   "outputs": [
    {
     "data": {
      "text/plain": [
       "primary_title      0\n",
       "start_year         0\n",
       "runtime_minutes    0\n",
       "genres             0\n",
       "averagerating      0\n",
       "numvotes           0\n",
       "dtype: int64"
      ]
     },
     "execution_count": 22,
     "metadata": {},
     "output_type": "execute_result"
    }
   ],
   "source": [
    "movieBasicsDf.isna().sum()"
   ]
  },
  {
   "cell_type": "markdown",
   "id": "c437ecfe",
   "metadata": {},
   "source": [
    "#### Consistency"
   ]
  },
  {
   "cell_type": "code",
   "execution_count": 23,
   "id": "dd89be43",
   "metadata": {},
   "outputs": [
    {
     "data": {
      "text/plain": [
       "3276"
      ]
     },
     "execution_count": 23,
     "metadata": {},
     "output_type": "execute_result"
    }
   ],
   "source": [
    "# Checking for duplicates\n",
    "movieBasicsDf.duplicated(subset=['primary_title']).sum()"
   ]
  },
  {
   "cell_type": "code",
   "execution_count": 24,
   "id": "7cdf6c25",
   "metadata": {
    "scrolled": true
   },
   "outputs": [
    {
     "name": "stdout",
     "output_type": "stream",
     "text": [
      "(5666, 6)\n",
      "\n"
     ]
    },
    {
     "data": {
      "text/html": [
       "<div>\n",
       "<style scoped>\n",
       "    .dataframe tbody tr th:only-of-type {\n",
       "        vertical-align: middle;\n",
       "    }\n",
       "\n",
       "    .dataframe tbody tr th {\n",
       "        vertical-align: top;\n",
       "    }\n",
       "\n",
       "    .dataframe thead th {\n",
       "        text-align: right;\n",
       "    }\n",
       "</style>\n",
       "<table border=\"1\" class=\"dataframe\">\n",
       "  <thead>\n",
       "    <tr style=\"text-align: right;\">\n",
       "      <th></th>\n",
       "      <th>primary_title</th>\n",
       "      <th>start_year</th>\n",
       "      <th>runtime_minutes</th>\n",
       "      <th>genres</th>\n",
       "      <th>averagerating</th>\n",
       "      <th>numvotes</th>\n",
       "    </tr>\n",
       "  </thead>\n",
       "  <tbody>\n",
       "    <tr>\n",
       "      <th>25696</th>\n",
       "      <td>1</td>\n",
       "      <td>2013</td>\n",
       "      <td>112.0</td>\n",
       "      <td>Documentary,History,Sport</td>\n",
       "      <td>8.0</td>\n",
       "      <td>3452</td>\n",
       "    </tr>\n",
       "    <tr>\n",
       "      <th>12137</th>\n",
       "      <td>1</td>\n",
       "      <td>2019</td>\n",
       "      <td>100.0</td>\n",
       "      <td>Drama</td>\n",
       "      <td>9.2</td>\n",
       "      <td>13</td>\n",
       "    </tr>\n",
       "    <tr>\n",
       "      <th>12367</th>\n",
       "      <td>100% Love</td>\n",
       "      <td>2011</td>\n",
       "      <td>141.0</td>\n",
       "      <td>Comedy,Drama,Romance</td>\n",
       "      <td>7.0</td>\n",
       "      <td>2331</td>\n",
       "    </tr>\n",
       "    <tr>\n",
       "      <th>26467</th>\n",
       "      <td>100% Love</td>\n",
       "      <td>2012</td>\n",
       "      <td>166.0</td>\n",
       "      <td>Comedy,Drama,Romance</td>\n",
       "      <td>6.0</td>\n",
       "      <td>296</td>\n",
       "    </tr>\n",
       "    <tr>\n",
       "      <th>12001</th>\n",
       "      <td>180</td>\n",
       "      <td>2011</td>\n",
       "      <td>121.0</td>\n",
       "      <td>Drama,Romance</td>\n",
       "      <td>6.0</td>\n",
       "      <td>688</td>\n",
       "    </tr>\n",
       "    <tr>\n",
       "      <th>14435</th>\n",
       "      <td>180</td>\n",
       "      <td>2011</td>\n",
       "      <td>107.0</td>\n",
       "      <td>Comedy,Drama</td>\n",
       "      <td>7.4</td>\n",
       "      <td>42</td>\n",
       "    </tr>\n",
       "    <tr>\n",
       "      <th>8025</th>\n",
       "      <td>1960</td>\n",
       "      <td>2010</td>\n",
       "      <td>75.0</td>\n",
       "      <td>Documentary</td>\n",
       "      <td>6.8</td>\n",
       "      <td>49</td>\n",
       "    </tr>\n",
       "    <tr>\n",
       "      <th>33615</th>\n",
       "      <td>1960</td>\n",
       "      <td>2013</td>\n",
       "      <td>66.0</td>\n",
       "      <td>Biography,Documentary</td>\n",
       "      <td>5.9</td>\n",
       "      <td>8</td>\n",
       "    </tr>\n",
       "    <tr>\n",
       "      <th>57234</th>\n",
       "      <td>1985</td>\n",
       "      <td>2016</td>\n",
       "      <td>114.0</td>\n",
       "      <td>Adventure,Comedy,Drama</td>\n",
       "      <td>8.1</td>\n",
       "      <td>30</td>\n",
       "    </tr>\n",
       "    <tr>\n",
       "      <th>60879</th>\n",
       "      <td>1985</td>\n",
       "      <td>2018</td>\n",
       "      <td>85.0</td>\n",
       "      <td>Drama</td>\n",
       "      <td>6.8</td>\n",
       "      <td>998</td>\n",
       "    </tr>\n",
       "    <tr>\n",
       "      <th>38992</th>\n",
       "      <td>1989</td>\n",
       "      <td>2014</td>\n",
       "      <td>54.0</td>\n",
       "      <td>Documentary</td>\n",
       "      <td>6.8</td>\n",
       "      <td>5</td>\n",
       "    </tr>\n",
       "    <tr>\n",
       "      <th>42650</th>\n",
       "      <td>1989</td>\n",
       "      <td>2014</td>\n",
       "      <td>97.0</td>\n",
       "      <td>Documentary,History,Thriller</td>\n",
       "      <td>7.5</td>\n",
       "      <td>175</td>\n",
       "    </tr>\n",
       "    <tr>\n",
       "      <th>30470</th>\n",
       "      <td>21 Days</td>\n",
       "      <td>2014</td>\n",
       "      <td>89.0</td>\n",
       "      <td>Horror,Thriller</td>\n",
       "      <td>4.5</td>\n",
       "      <td>454</td>\n",
       "    </tr>\n",
       "    <tr>\n",
       "      <th>44378</th>\n",
       "      <td>21 Days</td>\n",
       "      <td>2014</td>\n",
       "      <td>70.0</td>\n",
       "      <td>Documentary</td>\n",
       "      <td>6.0</td>\n",
       "      <td>5</td>\n",
       "    </tr>\n",
       "    <tr>\n",
       "      <th>3725</th>\n",
       "      <td>3</td>\n",
       "      <td>2010</td>\n",
       "      <td>119.0</td>\n",
       "      <td>Comedy,Drama,Romance</td>\n",
       "      <td>6.7</td>\n",
       "      <td>4722</td>\n",
       "    </tr>\n",
       "    <tr>\n",
       "      <th>17634</th>\n",
       "      <td>3</td>\n",
       "      <td>2012</td>\n",
       "      <td>145.0</td>\n",
       "      <td>Drama,Mystery,Romance</td>\n",
       "      <td>7.2</td>\n",
       "      <td>3471</td>\n",
       "    </tr>\n",
       "    <tr>\n",
       "      <th>23394</th>\n",
       "      <td>3</td>\n",
       "      <td>2012</td>\n",
       "      <td>115.0</td>\n",
       "      <td>Comedy,Drama</td>\n",
       "      <td>6.1</td>\n",
       "      <td>101</td>\n",
       "    </tr>\n",
       "    <tr>\n",
       "      <th>54773</th>\n",
       "      <td>3</td>\n",
       "      <td>2018</td>\n",
       "      <td>80.0</td>\n",
       "      <td>Horror,Mystery,Thriller</td>\n",
       "      <td>3.9</td>\n",
       "      <td>166</td>\n",
       "    </tr>\n",
       "    <tr>\n",
       "      <th>45498</th>\n",
       "      <td>3/4</td>\n",
       "      <td>2014</td>\n",
       "      <td>80.0</td>\n",
       "      <td>Drama</td>\n",
       "      <td>5.8</td>\n",
       "      <td>8</td>\n",
       "    </tr>\n",
       "    <tr>\n",
       "      <th>64616</th>\n",
       "      <td>3/4</td>\n",
       "      <td>2017</td>\n",
       "      <td>83.0</td>\n",
       "      <td>Drama</td>\n",
       "      <td>6.3</td>\n",
       "      <td>196</td>\n",
       "    </tr>\n",
       "  </tbody>\n",
       "</table>\n",
       "</div>"
      ],
      "text/plain": [
       "      primary_title  start_year  runtime_minutes  \\\n",
       "25696             1        2013            112.0   \n",
       "12137             1        2019            100.0   \n",
       "12367     100% Love        2011            141.0   \n",
       "26467     100% Love        2012            166.0   \n",
       "12001           180        2011            121.0   \n",
       "14435           180        2011            107.0   \n",
       "8025           1960        2010             75.0   \n",
       "33615          1960        2013             66.0   \n",
       "57234          1985        2016            114.0   \n",
       "60879          1985        2018             85.0   \n",
       "38992          1989        2014             54.0   \n",
       "42650          1989        2014             97.0   \n",
       "30470       21 Days        2014             89.0   \n",
       "44378       21 Days        2014             70.0   \n",
       "3725              3        2010            119.0   \n",
       "17634             3        2012            145.0   \n",
       "23394             3        2012            115.0   \n",
       "54773             3        2018             80.0   \n",
       "45498           3/4        2014             80.0   \n",
       "64616           3/4        2017             83.0   \n",
       "\n",
       "                             genres  averagerating  numvotes  \n",
       "25696     Documentary,History,Sport            8.0      3452  \n",
       "12137                         Drama            9.2        13  \n",
       "12367          Comedy,Drama,Romance            7.0      2331  \n",
       "26467          Comedy,Drama,Romance            6.0       296  \n",
       "12001                 Drama,Romance            6.0       688  \n",
       "14435                  Comedy,Drama            7.4        42  \n",
       "8025                    Documentary            6.8        49  \n",
       "33615         Biography,Documentary            5.9         8  \n",
       "57234        Adventure,Comedy,Drama            8.1        30  \n",
       "60879                         Drama            6.8       998  \n",
       "38992                   Documentary            6.8         5  \n",
       "42650  Documentary,History,Thriller            7.5       175  \n",
       "30470               Horror,Thriller            4.5       454  \n",
       "44378                   Documentary            6.0         5  \n",
       "3725           Comedy,Drama,Romance            6.7      4722  \n",
       "17634         Drama,Mystery,Romance            7.2      3471  \n",
       "23394                  Comedy,Drama            6.1       101  \n",
       "54773       Horror,Mystery,Thriller            3.9       166  \n",
       "45498                         Drama            5.8         8  \n",
       "64616                         Drama            6.3       196  "
      ]
     },
     "execution_count": 24,
     "metadata": {},
     "output_type": "execute_result"
    }
   ],
   "source": [
    "# Filtering for duplicates\n",
    "basicsDuplicates = movieBasicsDf.loc[movieBasicsDf.duplicated(subset=['primary_title'],\n",
    "                                                             keep=False)]\n",
    "\n",
    "# Filtering out a `SettingWithCopyWarning`\n",
    "pd.options.mode.chained_assignment = None\n",
    "# Sorting by Primary Title and then Start Year\n",
    "basicsDuplicates.sort_values(by=[\"primary_title\", 'start_year'], inplace=True,\n",
    "                            ascending=True)\n",
    "\n",
    "# Printing the shape of the duplicated data\n",
    "print(basicsDuplicates.shape, end=\"\\n\\n\")\n",
    "\n",
    "# Viewing the first 20 records\n",
    "basicsDuplicates.head(20)"
   ]
  },
  {
   "cell_type": "markdown",
   "id": "63628e18",
   "metadata": {},
   "source": [
    ">All duplicates will be dropped. Also, note that the above ouptut shows all rows WITH their duplicates due to the argument `keep` being set to True"
   ]
  },
  {
   "cell_type": "code",
   "execution_count": 25,
   "id": "0ad21e56",
   "metadata": {},
   "outputs": [],
   "source": [
    "# Resetting the option to `Warn`\n",
    "pd.options.mode.chained_assignment = 'warn'"
   ]
  },
  {
   "cell_type": "code",
   "execution_count": 26,
   "id": "f7092ace",
   "metadata": {},
   "outputs": [],
   "source": [
    "# Dropping the duplicates\n",
    "movieBasicsDf.drop_duplicates(subset=['primary_title'], keep='first',\n",
    "                             inplace=True)"
   ]
  },
  {
   "cell_type": "markdown",
   "id": "3fa1c7ab",
   "metadata": {},
   "source": [
    "#### Validity"
   ]
  },
  {
   "cell_type": "code",
   "execution_count": 27,
   "id": "59460886",
   "metadata": {},
   "outputs": [
    {
     "data": {
      "text/plain": [
       "primary_title       object\n",
       "start_year           int64\n",
       "runtime_minutes    float64\n",
       "genres              object\n",
       "averagerating      float64\n",
       "numvotes             int64\n",
       "dtype: object"
      ]
     },
     "execution_count": 27,
     "metadata": {},
     "output_type": "execute_result"
    }
   ],
   "source": [
    "# Checking for proper data types within the dataframe\n",
    "movieBasicsDf.dtypes"
   ]
  },
  {
   "cell_type": "markdown",
   "id": "c52057f4",
   "metadata": {},
   "source": [
    ">Everything seems to be in order for this dataframe"
   ]
  },
  {
   "cell_type": "markdown",
   "id": "949eb8c1",
   "metadata": {},
   "source": [
    "### Movie Gross Dataset"
   ]
  },
  {
   "cell_type": "code",
   "execution_count": 28,
   "id": "c81116b7",
   "metadata": {},
   "outputs": [
    {
     "data": {
      "text/plain": [
       "(3387, 5)"
      ]
     },
     "execution_count": 28,
     "metadata": {},
     "output_type": "execute_result"
    }
   ],
   "source": [
    "movieGrossDf.shape"
   ]
  },
  {
   "cell_type": "markdown",
   "id": "14589d9f",
   "metadata": {},
   "source": [
    "#### Completeness"
   ]
  },
  {
   "cell_type": "code",
   "execution_count": 29,
   "id": "2eef4933",
   "metadata": {},
   "outputs": [
    {
     "data": {
      "text/plain": [
       "title                0\n",
       "studio               5\n",
       "domestic_gross      28\n",
       "foreign_gross     1350\n",
       "year                 0\n",
       "dtype: int64"
      ]
     },
     "execution_count": 29,
     "metadata": {},
     "output_type": "execute_result"
    }
   ],
   "source": [
    "# Checking for null values\n",
    "movieGrossDf.isna().sum()"
   ]
  },
  {
   "cell_type": "markdown",
   "id": "3c1c3f71",
   "metadata": {},
   "source": [
    "<p> Nearly half of the rows in this dataset have null values in the _foreign_gross_ column. From speculation, this could be one of two reasons:\n",
    "\n",
    "1. The data was never recorded, or\n",
    "2. The movie did not make any money inernationally.\n",
    "\n",
    "Either way, these will be imputed with a value of 0. The same goes for Domestic Gross\n",
    "</p>"
   ]
  },
  {
   "cell_type": "code",
   "execution_count": 31,
   "id": "d52876c7",
   "metadata": {},
   "outputs": [],
   "source": [
    "# Imputing nulls in numeric columns\n",
    "movieGrossDf['domestic_gross'].fillna(value=0, inplace=True)\n",
    "movieGrossDf['foreign_gross'].fillna(value=0, inplace=True)"
   ]
  },
  {
   "cell_type": "code",
   "execution_count": 33,
   "id": "c7d1c4ae",
   "metadata": {},
   "outputs": [],
   "source": [
    "# Dropping nulls in studio column\n",
    "movieGrossDf.dropna(subset=['studio'], inplace=True)"
   ]
  },
  {
   "cell_type": "markdown",
   "id": "7b2f647c",
   "metadata": {},
   "source": [
    "#### Consistency"
   ]
  },
  {
   "cell_type": "code",
   "execution_count": 34,
   "id": "75bbfb4d",
   "metadata": {},
   "outputs": [
    {
     "data": {
      "text/plain": [
       "0"
      ]
     },
     "execution_count": 34,
     "metadata": {},
     "output_type": "execute_result"
    }
   ],
   "source": [
    "# Checking for duplicates\n",
    "movieGrossDf.duplicated().sum()"
   ]
  },
  {
   "cell_type": "markdown",
   "id": "6f9ad734",
   "metadata": {},
   "source": [
    "#### Validity"
   ]
  },
  {
   "cell_type": "code",
   "execution_count": 35,
   "id": "5839575c",
   "metadata": {},
   "outputs": [
    {
     "data": {
      "text/plain": [
       "title              object\n",
       "studio             object\n",
       "domestic_gross    float64\n",
       "foreign_gross      object\n",
       "year                int64\n",
       "dtype: object"
      ]
     },
     "execution_count": 35,
     "metadata": {},
     "output_type": "execute_result"
    }
   ],
   "source": [
    "# Checking column data types\n",
    "movieGrossDf.dtypes"
   ]
  },
  {
   "cell_type": "markdown",
   "id": "0d99743b",
   "metadata": {},
   "source": [
    "> Foreign gross needs to be numeric"
   ]
  },
  {
   "cell_type": "code",
   "execution_count": 36,
   "id": "e8df1beb",
   "metadata": {},
   "outputs": [
    {
     "data": {
      "text/plain": [
       "0    652000000\n",
       "1    691300000\n",
       "2    664300000\n",
       "3    535700000\n",
       "4    513900000\n",
       "5    398000000\n",
       "6    311500000\n",
       "7    391000000\n",
       "8    291600000\n",
       "9    277300000\n",
       "Name: foreign_gross, dtype: object"
      ]
     },
     "execution_count": 36,
     "metadata": {},
     "output_type": "execute_result"
    }
   ],
   "source": [
    "movieGrossDf['foreign_gross'].head(10)"
   ]
  },
  {
   "cell_type": "code",
   "execution_count": 40,
   "id": "c13f5763",
   "metadata": {},
   "outputs": [
    {
     "ename": "ValueError",
     "evalue": "Cannot mask with non-boolean array containing NA / NaN values",
     "output_type": "error",
     "traceback": [
      "\u001b[1;31m---------------------------------------------------------------------------\u001b[0m",
      "\u001b[1;31mValueError\u001b[0m                                Traceback (most recent call last)",
      "Input \u001b[1;32mIn [40]\u001b[0m, in \u001b[0;36m<cell line: 1>\u001b[1;34m()\u001b[0m\n\u001b[1;32m----> 1\u001b[0m \u001b[43mmovieGrossDf\u001b[49m\u001b[38;5;241;43m.\u001b[39;49m\u001b[43mloc\u001b[49m\u001b[43m[\u001b[49m\u001b[43mmovieGrossDf\u001b[49m\u001b[43m[\u001b[49m\u001b[38;5;124;43m'\u001b[39;49m\u001b[38;5;124;43mforeign_gross\u001b[39;49m\u001b[38;5;124;43m'\u001b[39;49m\u001b[43m]\u001b[49m\u001b[38;5;241;43m.\u001b[39;49m\u001b[43mstr\u001b[49m\u001b[38;5;241;43m.\u001b[39;49m\u001b[43mcontains\u001b[49m\u001b[43m(\u001b[49m\u001b[38;5;124;43m'\u001b[39;49m\u001b[38;5;124;43m,\u001b[39;49m\u001b[38;5;124;43m'\u001b[39;49m\u001b[43m)\u001b[49m\u001b[43m]\u001b[49m\n",
      "File \u001b[1;32m~\\anaconda3\\envs\\sandbox\\lib\\site-packages\\pandas\\core\\indexing.py:1073\u001b[0m, in \u001b[0;36m_LocationIndexer.__getitem__\u001b[1;34m(self, key)\u001b[0m\n\u001b[0;32m   1070\u001b[0m axis \u001b[38;5;241m=\u001b[39m \u001b[38;5;28mself\u001b[39m\u001b[38;5;241m.\u001b[39maxis \u001b[38;5;129;01mor\u001b[39;00m \u001b[38;5;241m0\u001b[39m\n\u001b[0;32m   1072\u001b[0m maybe_callable \u001b[38;5;241m=\u001b[39m com\u001b[38;5;241m.\u001b[39mapply_if_callable(key, \u001b[38;5;28mself\u001b[39m\u001b[38;5;241m.\u001b[39mobj)\n\u001b[1;32m-> 1073\u001b[0m \u001b[38;5;28;01mreturn\u001b[39;00m \u001b[38;5;28;43mself\u001b[39;49m\u001b[38;5;241;43m.\u001b[39;49m\u001b[43m_getitem_axis\u001b[49m\u001b[43m(\u001b[49m\u001b[43mmaybe_callable\u001b[49m\u001b[43m,\u001b[49m\u001b[43m \u001b[49m\u001b[43maxis\u001b[49m\u001b[38;5;241;43m=\u001b[39;49m\u001b[43maxis\u001b[49m\u001b[43m)\u001b[49m\n",
      "File \u001b[1;32m~\\anaconda3\\envs\\sandbox\\lib\\site-packages\\pandas\\core\\indexing.py:1291\u001b[0m, in \u001b[0;36m_LocIndexer._getitem_axis\u001b[1;34m(self, key, axis)\u001b[0m\n\u001b[0;32m   1289\u001b[0m     \u001b[38;5;28mself\u001b[39m\u001b[38;5;241m.\u001b[39m_validate_key(key, axis)\n\u001b[0;32m   1290\u001b[0m     \u001b[38;5;28;01mreturn\u001b[39;00m \u001b[38;5;28mself\u001b[39m\u001b[38;5;241m.\u001b[39m_get_slice_axis(key, axis\u001b[38;5;241m=\u001b[39maxis)\n\u001b[1;32m-> 1291\u001b[0m \u001b[38;5;28;01melif\u001b[39;00m \u001b[43mcom\u001b[49m\u001b[38;5;241;43m.\u001b[39;49m\u001b[43mis_bool_indexer\u001b[49m\u001b[43m(\u001b[49m\u001b[43mkey\u001b[49m\u001b[43m)\u001b[49m:\n\u001b[0;32m   1292\u001b[0m     \u001b[38;5;28;01mreturn\u001b[39;00m \u001b[38;5;28mself\u001b[39m\u001b[38;5;241m.\u001b[39m_getbool_axis(key, axis\u001b[38;5;241m=\u001b[39maxis)\n\u001b[0;32m   1293\u001b[0m \u001b[38;5;28;01melif\u001b[39;00m is_list_like_indexer(key):\n\u001b[0;32m   1294\u001b[0m \n\u001b[0;32m   1295\u001b[0m     \u001b[38;5;66;03m# an iterable multi-selection\u001b[39;00m\n",
      "File \u001b[1;32m~\\anaconda3\\envs\\sandbox\\lib\\site-packages\\pandas\\core\\common.py:135\u001b[0m, in \u001b[0;36mis_bool_indexer\u001b[1;34m(key)\u001b[0m\n\u001b[0;32m    131\u001b[0m     na_msg \u001b[38;5;241m=\u001b[39m \u001b[38;5;124m\"\u001b[39m\u001b[38;5;124mCannot mask with non-boolean array containing NA / NaN values\u001b[39m\u001b[38;5;124m\"\u001b[39m\n\u001b[0;32m    132\u001b[0m     \u001b[38;5;28;01mif\u001b[39;00m lib\u001b[38;5;241m.\u001b[39minfer_dtype(key_array) \u001b[38;5;241m==\u001b[39m \u001b[38;5;124m\"\u001b[39m\u001b[38;5;124mboolean\u001b[39m\u001b[38;5;124m\"\u001b[39m \u001b[38;5;129;01mand\u001b[39;00m isna(key_array)\u001b[38;5;241m.\u001b[39many():\n\u001b[0;32m    133\u001b[0m         \u001b[38;5;66;03m# Don't raise on e.g. [\"A\", \"B\", np.nan], see\u001b[39;00m\n\u001b[0;32m    134\u001b[0m         \u001b[38;5;66;03m#  test_loc_getitem_list_of_labels_categoricalindex_with_na\u001b[39;00m\n\u001b[1;32m--> 135\u001b[0m         \u001b[38;5;28;01mraise\u001b[39;00m \u001b[38;5;167;01mValueError\u001b[39;00m(na_msg)\n\u001b[0;32m    136\u001b[0m     \u001b[38;5;28;01mreturn\u001b[39;00m \u001b[38;5;28;01mFalse\u001b[39;00m\n\u001b[0;32m    137\u001b[0m \u001b[38;5;28;01mreturn\u001b[39;00m \u001b[38;5;28;01mTrue\u001b[39;00m\n",
      "\u001b[1;31mValueError\u001b[0m: Cannot mask with non-boolean array containing NA / NaN values"
     ]
    }
   ],
   "source": [
    "movieGrossDf.loc[movieGrossDf['foreign_gross'].str.contains(',')]"
   ]
  },
  {
   "cell_type": "code",
   "execution_count": 41,
   "id": "d0ae1dc8",
   "metadata": {},
   "outputs": [
    {
     "data": {
      "text/plain": [
       "title             0\n",
       "studio            0\n",
       "domestic_gross    0\n",
       "foreign_gross     0\n",
       "year              0\n",
       "dtype: int64"
      ]
     },
     "execution_count": 41,
     "metadata": {},
     "output_type": "execute_result"
    }
   ],
   "source": [
    "movieGrossDf.isnull().sum()"
   ]
  },
  {
   "cell_type": "code",
   "execution_count": 42,
   "id": "75fd7ea5",
   "metadata": {},
   "outputs": [
    {
     "data": {
      "text/plain": [
       "3380    0\n",
       "3381    0\n",
       "3382    0\n",
       "3383    0\n",
       "3384    0\n",
       "3385    0\n",
       "3386    0\n",
       "Name: foreign_gross, dtype: object"
      ]
     },
     "execution_count": 42,
     "metadata": {},
     "output_type": "execute_result"
    }
   ],
   "source": [
    "movieGrossDf.loc[3380:,'foreign_gross']"
   ]
  }
 ],
 "metadata": {
  "kernelspec": {
   "display_name": "Sandbox",
   "language": "python",
   "name": "sandbox"
  },
  "language_info": {
   "codemirror_mode": {
    "name": "ipython",
    "version": 3
   },
   "file_extension": ".py",
   "mimetype": "text/x-python",
   "name": "python",
   "nbconvert_exporter": "python",
   "pygments_lexer": "ipython3",
   "version": "3.10.8"
  }
 },
 "nbformat": 4,
 "nbformat_minor": 5
}
