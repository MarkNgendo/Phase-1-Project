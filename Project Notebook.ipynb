{
 "cells": [
  {
   "cell_type": "markdown",
   "id": "4509d845",
   "metadata": {},
   "source": [
    "# MICROSOFT MOVIE STUDIO ANALYSIS"
   ]
  },
  {
   "cell_type": "markdown",
   "id": "f96b0822",
   "metadata": {},
   "source": [
    "## INTRODUCTION"
   ]
  },
  {
   "cell_type": "markdown",
   "id": "a912fdb1",
   "metadata": {},
   "source": [
    "## Business Problem"
   ]
  },
  {
   "cell_type": "markdown",
   "id": "e1f271e0",
   "metadata": {},
   "source": [
    "### Objectives"
   ]
  },
  {
   "cell_type": "markdown",
   "id": "31f4a1b8",
   "metadata": {},
   "source": [
    "To solve the above problem and help in steering Microsoft in the right direction in this endeavour, the following are this project's objectives\n",
    "\n",
    "<b>Main Objective</b>\n",
    "> Pass\n",
    "\n",
    "<b>Specific Objectives</b>\n",
    "1. To ...\n",
    "2. To ...\n",
    "3. To ..."
   ]
  },
  {
   "cell_type": "markdown",
   "id": "36de9b72",
   "metadata": {},
   "source": [
    "## Experimental Design\n",
    "\n",
    "The research follows the steps as listed:\n",
    "1. Introduction and Business Problem\n",
    "2. Loading Data and Relevant Libraries\n",
    "3. Data Wrangling and Preparation\n",
    "4. Data Exploration and Visualization\n",
    "5. Conclusions\n",
    "6. Recommendations"
   ]
  },
  {
   "cell_type": "markdown",
   "id": "e1d52853",
   "metadata": {},
   "source": [
    "## Metric of Success\n",
    "The project will be considered a success once it yields at least three actionable and data-driven recommendations to Mircosoft which can ensure the company focuses on the right steps while breaking into the Movie Industry"
   ]
  },
  {
   "cell_type": "markdown",
   "id": "516b47b2",
   "metadata": {},
   "source": [
    "## Loading Libraries"
   ]
  },
  {
   "cell_type": "code",
   "execution_count": 2,
   "id": "d663d149",
   "metadata": {},
   "outputs": [],
   "source": [
    "import pandas as pd\n",
    "import numpy as np\n",
    "import sqlite3\n",
    "import seaborn as sns\n",
    "from matplotlib import pyplot as plt\n",
    "%matplotlib inline"
   ]
  },
  {
   "cell_type": "markdown",
   "id": "d40f3b65",
   "metadata": {},
   "source": [
    "## Loading Data"
   ]
  },
  {
   "cell_type": "code",
   "execution_count": 5,
   "id": "def89fa3",
   "metadata": {},
   "outputs": [
    {
     "name": "stdout",
     "output_type": "stream",
     "text": [
      "[]\n"
     ]
    }
   ],
   "source": [
    "# Connecting to the database\n",
    "\n",
    "conn = sqlite3.connect(\"./data/im.db\")\n",
    "cursor = conn.cursor()\n",
    "\n",
    "# Showing the tables within the database\n",
    "tablesQuery = \"\"\"\n",
    "SELECT * FROM sqlite_master;\n",
    "\"\"\"\n",
    "\n",
    "# pd.read_sql(tablesQuery, conn)\n",
    "\n",
    "\n",
    "cursor.execute(tablesQuery)\n",
    "print(cursor.fetchall())"
   ]
  },
  {
   "cell_type": "code",
   "execution_count": null,
   "id": "14aafe84",
   "metadata": {},
   "outputs": [],
   "source": []
  }
 ],
 "metadata": {
  "kernelspec": {
   "display_name": "Sandbox",
   "language": "python",
   "name": "sandbox"
  },
  "language_info": {
   "codemirror_mode": {
    "name": "ipython",
    "version": 3
   },
   "file_extension": ".py",
   "mimetype": "text/x-python",
   "name": "python",
   "nbconvert_exporter": "python",
   "pygments_lexer": "ipython3",
   "version": "3.10.8"
  }
 },
 "nbformat": 4,
 "nbformat_minor": 5
}
